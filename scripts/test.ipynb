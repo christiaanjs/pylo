{
 "cells": [
  {
   "cell_type": "code",
   "execution_count": 1,
   "metadata": {},
   "outputs": [],
   "source": [
    "import numpy as np\n",
    "import theano\n",
    "import theano.tensor as tt\n",
    "import hky\n",
    "from importlib import reload\n",
    "reload(hky)\n",
    "\n",
    "from hky import *"
   ]
  },
  {
   "cell_type": "markdown",
   "metadata": {},
   "source": [
    "## Testing gradients"
   ]
  },
  {
   "cell_type": "code",
   "execution_count": 64,
   "metadata": {},
   "outputs": [
    {
     "data": {
      "text/plain": [
       "array([[0.3953989 , 0.17226874, 0.21616618, 0.21616618],\n",
       "       [0.17226874, 0.3953989 , 0.21616618, 0.21616618],\n",
       "       [0.21616618, 0.21616618, 0.3953989 , 0.17226874],\n",
       "       [0.21616618, 0.21616618, 0.17226874, 0.3953989 ]])"
      ]
     },
     "execution_count": 64,
     "metadata": {},
     "output_type": "execute_result"
    }
   ],
   "source": [
    "Pt = hky_transition_probs(1.0, 2.0, np.ones(4)/4, 1).eval()\n",
    "Pt"
   ]
  },
  {
   "cell_type": "code",
   "execution_count": 22,
   "metadata": {},
   "outputs": [
    {
     "data": {
      "text/plain": [
       "array([0.86466472, 0.86466472])"
      ]
     },
     "execution_count": 22,
     "metadata": {},
     "output_type": "execute_result"
    }
   ],
   "source": [
    "x, y = np.array([1, 0]), np.array([2, 2])\n",
    "Pt[x, y].eval()"
   ]
  },
  {
   "cell_type": "code",
   "execution_count": 38,
   "metadata": {},
   "outputs": [
    {
     "data": {
      "text/plain": [
       "array([[0.3953989 , 0.17226874, 0.21616618, 0.21616618],\n",
       "       [0.17226874, 0.3953989 , 0.21616618, 0.21616618],\n",
       "       [0.21616618, 0.21616618, 0.3953989 , 0.17226874],\n",
       "       [0.21616618, 0.21616618, 0.17226874, 0.3953989 ]])"
      ]
     },
     "execution_count": 38,
     "metadata": {},
     "output_type": "execute_result"
    }
   ],
   "source": [
    "Pt_expm = hky_transition_probs_expm(1.0, 2.0, np.ones(4)/4, 1).eval()\n",
    "Pt_expm"
   ]
  },
  {
   "cell_type": "code",
   "execution_count": 101,
   "metadata": {},
   "outputs": [
    {
     "data": {
      "text/html": [
       "<div>\n",
       "<style scoped>\n",
       "    .dataframe tbody tr th:only-of-type {\n",
       "        vertical-align: middle;\n",
       "    }\n",
       "\n",
       "    .dataframe tbody tr th {\n",
       "        vertical-align: top;\n",
       "    }\n",
       "\n",
       "    .dataframe thead th {\n",
       "        text-align: right;\n",
       "    }\n",
       "</style>\n",
       "<table border=\"1\" class=\"dataframe\">\n",
       "  <thead>\n",
       "    <tr style=\"text-align: right;\">\n",
       "      <th></th>\n",
       "      <th>0</th>\n",
       "      <th>1</th>\n",
       "      <th>2</th>\n",
       "      <th>3</th>\n",
       "      <th>4</th>\n",
       "      <th>5</th>\n",
       "      <th>6</th>\n",
       "    </tr>\n",
       "  </thead>\n",
       "  <tbody>\n",
       "    <tr>\n",
       "      <th>num_grad</th>\n",
       "      <td>-5.292850e-16</td>\n",
       "      <td>0.033834</td>\n",
       "      <td>-0.148499</td>\n",
       "      <td>0.716166</td>\n",
       "      <td>-0.148499</td>\n",
       "      <td>-0.148499</td>\n",
       "      <td>0.067668</td>\n",
       "    </tr>\n",
       "    <tr>\n",
       "      <th>theano_grad</th>\n",
       "      <td>6.245005e-17</td>\n",
       "      <td>0.033834</td>\n",
       "      <td>-0.135022</td>\n",
       "      <td>0.702690</td>\n",
       "      <td>-0.135022</td>\n",
       "      <td>-0.161975</td>\n",
       "      <td>0.067668</td>\n",
       "    </tr>\n",
       "    <tr>\n",
       "      <th>val</th>\n",
       "      <td>2.161662e-01</td>\n",
       "      <td>0.216166</td>\n",
       "      <td>0.216166</td>\n",
       "      <td>0.216166</td>\n",
       "      <td>0.216166</td>\n",
       "      <td>0.216166</td>\n",
       "      <td>0.216166</td>\n",
       "    </tr>\n",
       "  </tbody>\n",
       "</table>\n",
       "</div>"
      ],
      "text/plain": [
       "                        0         1         2         3         4         5  \\\n",
       "num_grad    -5.292850e-16  0.033834 -0.148499  0.716166 -0.148499 -0.148499   \n",
       "theano_grad  6.245005e-17  0.033834 -0.135022  0.702690 -0.135022 -0.161975   \n",
       "val          2.161662e-01  0.216166  0.216166  0.216166  0.216166  0.216166   \n",
       "\n",
       "                    6  \n",
       "num_grad     0.067668  \n",
       "theano_grad  0.067668  \n",
       "val          0.216166  "
      ]
     },
     "execution_count": 101,
     "metadata": {},
     "output_type": "execute_result"
    }
   ],
   "source": [
    "import numdifftools as nd\n",
    "import pandas as pd\n",
    "\n",
    "def test_transition_prob_grad(func, point, i, j):\n",
    "    theta = tt.vector()\n",
    "    alpha = theta[0]\n",
    "    beta = theta[1]\n",
    "    pi = theta[2:6]\n",
    "    t = theta[6]\n",
    "    Pt_ij = func(alpha, beta, pi, t)[i, j]\n",
    "    f = theano.function([theta], Pt_ij)\n",
    "    Pt_ij_grad = tt.grad(Pt_ij, theta)\n",
    "    f_grad = theano.function([theta], Pt_ij_grad)\n",
    "    return {\n",
    "        'val': f(point),\n",
    "        'theano_grad': f_grad(point),\n",
    "        'num_grad': nd.Gradient(f)(theta_point)\n",
    "    }\n",
    "\n",
    "theta_point = np.array([1.0, 2.0, 0.2, 0.25, 0.3, 0.25, 1.0])\n",
    "pd.DataFrame(test_transition_prob_grad(hky_transition_probs_expm, theta_point, 1, 2)).transpose()"
   ]
  },
  {
   "cell_type": "code",
   "execution_count": 102,
   "metadata": {},
   "outputs": [
    {
     "data": {
      "text/html": [
       "<div>\n",
       "<style scoped>\n",
       "    .dataframe tbody tr th:only-of-type {\n",
       "        vertical-align: middle;\n",
       "    }\n",
       "\n",
       "    .dataframe tbody tr th {\n",
       "        vertical-align: top;\n",
       "    }\n",
       "\n",
       "    .dataframe thead th {\n",
       "        text-align: right;\n",
       "    }\n",
       "</style>\n",
       "<table border=\"1\" class=\"dataframe\">\n",
       "  <thead>\n",
       "    <tr style=\"text-align: right;\">\n",
       "      <th></th>\n",
       "      <th>0</th>\n",
       "      <th>1</th>\n",
       "      <th>2</th>\n",
       "      <th>3</th>\n",
       "      <th>4</th>\n",
       "      <th>5</th>\n",
       "      <th>6</th>\n",
       "    </tr>\n",
       "  </thead>\n",
       "  <tbody>\n",
       "    <tr>\n",
       "      <th>num_grad</th>\n",
       "      <td>0.000000</td>\n",
       "      <td>0.033834</td>\n",
       "      <td>0.000000</td>\n",
       "      <td>0.864665</td>\n",
       "      <td>0.000000</td>\n",
       "      <td>0.000000</td>\n",
       "      <td>0.067668</td>\n",
       "    </tr>\n",
       "    <tr>\n",
       "      <th>theano_grad</th>\n",
       "      <td>0.000000</td>\n",
       "      <td>0.033834</td>\n",
       "      <td>0.000000</td>\n",
       "      <td>0.864665</td>\n",
       "      <td>0.000000</td>\n",
       "      <td>0.000000</td>\n",
       "      <td>0.067668</td>\n",
       "    </tr>\n",
       "    <tr>\n",
       "      <th>val</th>\n",
       "      <td>0.216166</td>\n",
       "      <td>0.216166</td>\n",
       "      <td>0.216166</td>\n",
       "      <td>0.216166</td>\n",
       "      <td>0.216166</td>\n",
       "      <td>0.216166</td>\n",
       "      <td>0.216166</td>\n",
       "    </tr>\n",
       "  </tbody>\n",
       "</table>\n",
       "</div>"
      ],
      "text/plain": [
       "                    0         1         2         3         4         5  \\\n",
       "num_grad     0.000000  0.033834  0.000000  0.864665  0.000000  0.000000   \n",
       "theano_grad  0.000000  0.033834  0.000000  0.864665  0.000000  0.000000   \n",
       "val          0.216166  0.216166  0.216166  0.216166  0.216166  0.216166   \n",
       "\n",
       "                    6  \n",
       "num_grad     0.067668  \n",
       "theano_grad  0.067668  \n",
       "val          0.216166  "
      ]
     },
     "execution_count": 102,
     "metadata": {},
     "output_type": "execute_result"
    }
   ],
   "source": [
    "pd.DataFrame(test_transition_prob_grad(hky_transition_probs, theta_point, 1, 2)).transpose()"
   ]
  },
  {
   "cell_type": "markdown",
   "metadata": {},
   "source": [
    "## Testing vectorisation"
   ]
  },
  {
   "cell_type": "code",
   "execution_count": 5,
   "metadata": {},
   "outputs": [],
   "source": [
    "def hky_transition_probs_scalar(kappa, pi, t):\n",
    "\tpiY = pi[T] + pi[C]\n",
    "\tpiR = pi[A] + pi[G]\n",
    "\tlambd = make_tensor([ # Eigenvalues \n",
    "\t\t0,\n",
    "\t\t-1,\n",
    "\t\t-(piY + piR*kappa),\n",
    "\t\t-(piY*kappa + piR)\t\t\n",
    "\t])\n",
    "\tU = make_tensor([ # Right eigenvectors as columns (rows of transpose)\n",
    "\t\t[1, 1, 1, 1],\n",
    "\t\t[1/piY, 1/piY, -1/piR, -1/piR],\n",
    "\t\t[0, 0, pi[G]/piR, -pi[A]/piR],\n",
    "\t\t[pi[C]/piY, -pi[T]/piY, 0, 0]\n",
    "\t]).transpose()\n",
    "\n",
    "\tVt = make_tensor([ # Left eigenvectors as rows\n",
    "\t\t[pi[T], pi[C], pi[A], pi[G]],\n",
    "\t\t[piR*pi[T], piR*pi[C], -piY*pi[A], -piY*pi[G]],\n",
    "\t\t[0, 0, 1, -1],\n",
    "\t\t[1, -1, 0, 0]\n",
    "\t])\n",
    "\n",
    "\tQ_unnormalised = tt.dot(U, tt.dot(tt.diag(lambd), Vt))\n",
    "\taverage_subs = -tt.nlinalg.trace(tt.dot(Q_unnormalised, tt.diag(pi)))\n",
    "\n",
    "\treturn tt.dot(U, tt.dot(tt.diag(tt.exp(lambd / average_subs * t)), Vt))"
   ]
  },
  {
   "cell_type": "code",
   "execution_count": 25,
   "metadata": {},
   "outputs": [],
   "source": [
    "pi = np.array([0.2, 0.3, 0.18, 0.32])\n",
    "kappa = 1.2\n",
    "ts = np.array([2.3, 3.2, 0.1, 5.8])"
   ]
  },
  {
   "cell_type": "code",
   "execution_count": 26,
   "metadata": {},
   "outputs": [
    {
     "data": {
      "text/plain": [
       "[array([[0.23981613, 0.17510156, 0.28310435, 0.30197797],\n",
       "        [0.19455729, 0.2203604 , 0.28310435, 0.30197797],\n",
       "        [0.18873623, 0.16986261, 0.33070206, 0.3106991 ],\n",
       "        [0.18873623, 0.16986261, 0.29128041, 0.35012075]]),\n",
       " array([[0.21234738, 0.17898108, 0.29451849, 0.31415305],\n",
       "        [0.19886786, 0.1924606 , 0.29451849, 0.31415305],\n",
       "        [0.19634566, 0.17671109, 0.30910078, 0.31784247],\n",
       "        [0.19634566, 0.17671109, 0.29797732, 0.32896593]]),\n",
       " array([[0.90199005, 0.02511698, 0.0352708 , 0.03762218],\n",
       "        [0.02790775, 0.89919927, 0.0352708 , 0.03762218],\n",
       "        [0.02351386, 0.02116248, 0.91069229, 0.04463137],\n",
       "        [0.02351386, 0.02116248, 0.04184191, 0.91348175]]),\n",
       " array([[0.20042372, 0.18001468, 0.29978787, 0.31977373],\n",
       "        [0.20001631, 0.18042209, 0.29978787, 0.31977373],\n",
       "        [0.19985858, 0.17987272, 0.30027846, 0.31999024],\n",
       "        [0.19985858, 0.17987272, 0.29999085, 0.32027785]])]"
      ]
     },
     "execution_count": 26,
     "metadata": {},
     "output_type": "execute_result"
    }
   ],
   "source": [
    "kappa_ = tt.scalar()\n",
    "pi_ = tt.vector()\n",
    "t_scalar = tt.scalar()\n",
    "P_scalar = hky_transition_probs_scalar(kappa_, pi_, t_scalar)\n",
    "\n",
    "scalar_func = theano.function([kappa_, pi_, t_scalar], P_scalar)\n",
    "res_scalar = [scalar_func(kappa, pi, t) for t in ts]\n",
    "res_scalar"
   ]
  },
  {
   "cell_type": "code",
   "execution_count": 27,
   "metadata": {},
   "outputs": [
    {
     "data": {
      "text/plain": [
       "(array([[[0.23981613, 0.21234738, 0.90199005, 0.20042372],\n",
       "         [0.17510156, 0.17898108, 0.02511698, 0.18001468],\n",
       "         [0.28310435, 0.29451849, 0.0352708 , 0.29978787],\n",
       "         [0.30197797, 0.31415305, 0.03762218, 0.31977373]],\n",
       " \n",
       "        [[0.19455729, 0.19886786, 0.02790775, 0.20001631],\n",
       "         [0.2203604 , 0.1924606 , 0.89919927, 0.18042209],\n",
       "         [0.28310435, 0.29451849, 0.0352708 , 0.29978787],\n",
       "         [0.30197797, 0.31415305, 0.03762218, 0.31977373]],\n",
       " \n",
       "        [[0.18873623, 0.19634566, 0.02351386, 0.19985858],\n",
       "         [0.16986261, 0.17671109, 0.02116248, 0.17987272],\n",
       "         [0.33070206, 0.30910078, 0.91069229, 0.30027846],\n",
       "         [0.3106991 , 0.31784247, 0.04463137, 0.31999024]],\n",
       " \n",
       "        [[0.18873623, 0.19634566, 0.02351386, 0.19985858],\n",
       "         [0.16986261, 0.17671109, 0.02116248, 0.17987272],\n",
       "         [0.29128041, 0.29797732, 0.04184191, 0.29999085],\n",
       "         [0.35012075, 0.32896593, 0.91348175, 0.32027785]]]), (4, 4, 4))"
      ]
     },
     "execution_count": 27,
     "metadata": {},
     "output_type": "execute_result"
    }
   ],
   "source": [
    "t_vector = tt.vector()\n",
    "P_vector = hky_transition_probs(kappa_, pi_, t_vector)\n",
    "vector_func = theano.function([kappa_, pi_, t_vector], P_vector)\n",
    "res_vector = vector_func(kappa, pi, ts)\n",
    "res_vector, res_vector.shape"
   ]
  },
  {
   "cell_type": "code",
   "execution_count": 28,
   "metadata": {},
   "outputs": [
    {
     "data": {
      "text/plain": [
       "array([[0.23981613, 0.17510156, 0.28310435, 0.30197797],\n",
       "       [0.19455729, 0.2203604 , 0.28310435, 0.30197797],\n",
       "       [0.18873623, 0.16986261, 0.33070206, 0.3106991 ],\n",
       "       [0.18873623, 0.16986261, 0.29128041, 0.35012075]])"
      ]
     },
     "execution_count": 28,
     "metadata": {},
     "output_type": "execute_result"
    }
   ],
   "source": [
    "res_vector[:, :, 0]"
   ]
  },
  {
   "cell_type": "code",
   "execution_count": 29,
   "metadata": {},
   "outputs": [
    {
     "data": {
      "text/plain": [
       "[True, True, True, True]"
      ]
     },
     "execution_count": 29,
     "metadata": {},
     "output_type": "execute_result"
    }
   ],
   "source": [
    "[np.allclose(res_scalar[i], res_vector[:, :, i]) for i in range(len(ts))]"
   ]
  },
  {
   "cell_type": "code",
   "execution_count": 53,
   "metadata": {},
   "outputs": [],
   "source": []
  },
  {
   "cell_type": "code",
   "execution_count": 11,
   "metadata": {},
   "outputs": [
    {
     "data": {
      "text/plain": [
       "array([[[[0.00659938, 0.04076087, 0.08734472, 0.14635094],\n",
       "         [0.01171875, 0.04296875, 0.08463541, 0.13671875],\n",
       "         [0.015625  , 0.04456019, 0.08275463, 0.13020833],\n",
       "         [0.01171875, 0.04296875, 0.08463541, 0.13671875],\n",
       "         [0.01201923, 0.04326923, 0.08413462, 0.13461539]],\n",
       "\n",
       "        [[0.        , 0.        , 0.        , 0.        ],\n",
       "         [0.        , 0.        , 0.        , 0.        ],\n",
       "         [0.        , 0.        , 0.        , 0.        ],\n",
       "         [0.        , 0.        , 0.        , 0.        ],\n",
       "         [0.        , 0.        , 0.        , 0.        ]],\n",
       "\n",
       "        [[0.        , 0.        , 0.        , 0.        ],\n",
       "         [0.        , 0.        , 0.        , 0.        ],\n",
       "         [0.        , 0.        , 0.        , 0.        ],\n",
       "         [0.        , 0.        , 0.        , 0.        ],\n",
       "         [0.        , 0.        , 0.        , 0.        ]]],\n",
       "\n",
       "\n",
       "       [[[0.00659938, 0.04076087, 0.08734472, 0.14635094],\n",
       "         [0.01171875, 0.04296875, 0.08463541, 0.13671875],\n",
       "         [0.015625  , 0.04456019, 0.08275463, 0.13020833],\n",
       "         [0.01171875, 0.04296875, 0.08463541, 0.13671875],\n",
       "         [0.01201923, 0.04326923, 0.08413462, 0.13461539]],\n",
       "\n",
       "        [[0.04732955, 0.05721591, 0.06801137, 0.07971591],\n",
       "         [0.04743304, 0.05725446, 0.06796875, 0.0795759 ],\n",
       "         [0.04802956, 0.05747126, 0.06773399, 0.07881773],\n",
       "         [0.04732955, 0.05721591, 0.06801137, 0.07971591],\n",
       "         [0.04753326, 0.05728936, 0.06793237, 0.0794623 ]],\n",
       "\n",
       "        [[0.        , 0.        , 0.        , 0.        ],\n",
       "         [0.        , 0.        , 0.        , 0.        ],\n",
       "         [0.        , 0.        , 0.        , 0.        ],\n",
       "         [0.        , 0.        , 0.        , 0.        ],\n",
       "         [0.        , 0.        , 0.        , 0.        ]]],\n",
       "\n",
       "\n",
       "       [[[0.00659938, 0.04076087, 0.08734472, 0.14635094],\n",
       "         [0.01171875, 0.04296875, 0.08463541, 0.13671875],\n",
       "         [0.015625  , 0.04456019, 0.08275463, 0.13020833],\n",
       "         [0.01171875, 0.04296875, 0.08463541, 0.13671875],\n",
       "         [0.01201923, 0.04326923, 0.08413462, 0.13461539]],\n",
       "\n",
       "        [[0.04732955, 0.05721591, 0.06801137, 0.07971591],\n",
       "         [0.04743304, 0.05725446, 0.06796875, 0.0795759 ],\n",
       "         [0.04802956, 0.05747126, 0.06773399, 0.07881773],\n",
       "         [0.04732955, 0.05721591, 0.06801137, 0.07971591],\n",
       "         [0.04753326, 0.05728936, 0.06793237, 0.0794623 ]],\n",
       "\n",
       "        [[0.00379356, 0.00421335, 0.00465495, 0.00511835],\n",
       "         [0.00372493, 0.00413739, 0.00457129, 0.00502662],\n",
       "         [0.00368298, 0.00409101, 0.00452025, 0.00497071],\n",
       "         [0.00372553, 0.00413806, 0.00457202, 0.00502742],\n",
       "         [0.00369764, 0.00410711, 0.00453787, 0.0049899 ]]]],\n",
       "      dtype=float32)"
      ]
     },
     "execution_count": 11,
     "metadata": {},
     "output_type": "execute_result"
    }
   ],
   "source": [
    "import pruning\n",
    "from importlib import reload\n",
    "reload(pruning)\n",
    "\n",
    "theano.config.optimizer = 'fast_compile'\n",
    "\n",
    "from pruning import *\n",
    "\n",
    "leaf_sequences_ = tt.matrix(dtype = 'int64')\n",
    "leaf_sequences = np.array([[0, 1, 2, 1, 1], [0, 1, 1, 1, 3], [1, 1, 3, 1, 2], [0, 1, 3, 0, 0]])\n",
    "\n",
    "child_indices_ = tt.matrix(dtype = 'int64')\n",
    "child_indices = np.array([[0, 1], [2, 3], [0, 1]])\n",
    "\n",
    "child_transition_probs_ = tt.tensor4()\n",
    "p_un = np.arange(1, 3 * 2 * 4 * 4 + 1).reshape(3, 2, 4, 4)\n",
    "child_transition_probs = p_un/p_un.sum(axis = 2, keepdims=True)\n",
    "\n",
    "leaf_parent_mask_ = tt.vector(dtype = 'bool')\n",
    "leaf_parent_mask = np.array([True, True, False])\n",
    "\n",
    "partials_ = phylogenetic_likelihood_math(child_indices_, child_transition_probs_, leaf_parent_mask_, leaf_sequences_)\n",
    "\n",
    "partials_func = theano.function([child_indices_, child_transition_probs_, leaf_parent_mask_, leaf_sequences_], partials_[0])\n",
    "partials = partials_func(child_indices, child_transition_probs, leaf_parent_mask, leaf_sequences)\n",
    "partials"
   ]
  },
  {
   "cell_type": "code",
   "execution_count": 1,
   "metadata": {},
   "outputs": [
    {
     "ename": "NameError",
     "evalue": "name 'partials_' is not defined",
     "output_type": "error",
     "traceback": [
      "\u001b[0;31m---------------------------------------------------------------------------\u001b[0m",
      "\u001b[0;31mNameError\u001b[0m                                 Traceback (most recent call last)",
      "\u001b[0;32m<ipython-input-1-8f10448b9b9a>\u001b[0m in \u001b[0;36m<module>\u001b[0;34m()\u001b[0m\n\u001b[0;32m----> 1\u001b[0;31m \u001b[0mpartials_\u001b[0m\u001b[0;34m\u001b[0m\u001b[0m\n\u001b[0m",
      "\u001b[0;31mNameError\u001b[0m: name 'partials_' is not defined"
     ]
    }
   ],
   "source": [
    "partials_"
   ]
  },
  {
   "cell_type": "code",
   "execution_count": 13,
   "metadata": {},
   "outputs": [
    {
     "data": {
      "text/plain": [
       "(3, 5, 4)"
      ]
     },
     "execution_count": 13,
     "metadata": {},
     "output_type": "execute_result"
    }
   ],
   "source": [
    "partials[-1].shape"
   ]
  }
 ],
 "metadata": {
  "kernelspec": {
   "display_name": "Python 3",
   "language": "python",
   "name": "python3"
  },
  "language_info": {
   "codemirror_mode": {
    "name": "ipython",
    "version": 3
   },
   "file_extension": ".py",
   "mimetype": "text/x-python",
   "name": "python",
   "nbconvert_exporter": "python",
   "pygments_lexer": "ipython3",
   "version": "3.6.4"
  }
 },
 "nbformat": 4,
 "nbformat_minor": 2
}
