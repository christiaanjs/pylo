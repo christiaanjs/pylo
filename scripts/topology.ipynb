{
 "cells": [
  {
   "cell_type": "code",
   "execution_count": 1,
   "metadata": {},
   "outputs": [],
   "source": [
    "import sys\n",
    "sys.path += ['/Users/cswa648/git/phylo-hacking/pymc']\n",
    "\n",
    "import newick\n",
    "import theano\n",
    "%matplotlib inline"
   ]
  },
  {
   "cell_type": "code",
   "execution_count": 2,
   "metadata": {},
   "outputs": [
    {
     "name": "stdout",
     "output_type": "stream",
     "text": [
      "                            ┌─ANDI\n",
      "                     ┌──────┤\n",
      "                     │      └─DIGI\n",
      "              ┌──────┤\n",
      "              │      │             ┌─CASS\n",
      "              │      │      ┌──────┤\n",
      "       ┌──────┤      └──────┤      └─EMU\n",
      "       │      │             └─KIWI\n",
      "───────┤      │\n",
      "       │      └─RHEA\n",
      "       └─OST\n"
     ]
    }
   ],
   "source": [
    "newick_string = '((((ANDI:15,DIGI:15):50,((CASS:35,EMU:35):10,KIWI:45):10):10,RHEA:55):20,OST:85);'\n",
    "tree = newick.loads(newick_string)[0]\n",
    "print(tree.ascii_art())"
   ]
  },
  {
   "cell_type": "code",
   "execution_count": 32,
   "metadata": {},
   "outputs": [
    {
     "data": {
      "text/latex": [
       "$$\n",
       "            \\begin{array}{rcl}\n",
       "            tree &\\sim & \\text{BirthDeathSamplingTree}(r=\\text{r}, a=\\text{a}, \\rho=\\text{rho})\\\\\\text{r} &\\sim & \\text{Exponential}(\\mathit{lam}=0.1)\\\\\\text{a} &\\sim & \\text{Beta}(\\mathit{alpha}=1.0,~\\mathit{beta}=1.0)\\\\\\text{rho} &\\sim & \\text{Beta}(\\mathit{alpha}=1.0,~\\mathit{beta}=1.0)\\\\\\text{branch_lengths} &\\sim & \\text{Deterministic}(\\text{tree},~\\text{Constant},~\\text{Constant},~\\text{Constant},~\\text{tree},~\\text{Constant},~\\text{Constant},~\\text{Constant},~\\text{Constant},~\\text{tree},~\\text{Constant})\n",
       "            \\end{array}\n",
       "            $$"
      ],
      "text/plain": [
       "<pymc3.model.Model at 0x1c17e740b8>"
      ]
     },
     "execution_count": 32,
     "metadata": {},
     "output_type": "execute_result"
    }
   ],
   "source": [
    "import pymc3 as pm\n",
    "\n",
    "from importlib import reload\n",
    "import pylo.tree\n",
    "reload(pylo.tree)\n",
    "import pylo.topology\n",
    "reload(pylo.topology)\n",
    "\n",
    "from pylo.topology import TreeTopology\n",
    "from pylo.tree import BirthDeathSamplingTree\n",
    "from pylo.hky import HKYSubstitutionModel\n",
    "\n",
    "topology = pylo.topology.TreeTopology(tree)\n",
    "\n",
    "with pm.Model() as model:\n",
    "    r = pm.Exponential('r', lam=0.1)\n",
    "    a = pm.Beta('a', alpha=1.0, beta=1.0)\n",
    "    rho = pm.Beta('rho', alpha=1.0, beta=1.0)\n",
    "    \n",
    "    tree_heights = BirthDeathSamplingTree('tree', topology, r, a, rho)\n",
    "    branch_lengths = pm.Deterministic('branch_lengths', topology.get_child_branch_lengths(tree_heights))\n",
    "    rates = pm.Lognormal('rates', size=branch_lengths.shape)\n",
    "    \n",
    "    distances = pm.Deterministic('distances', rates*branch_lengths)\n",
    "    \n",
    "    kappa = pm.Exponential('kappa', lam=0.1)\n",
    "    pi = pm.Dirichlet('pi', a=np.ones(4))\n",
    "    \n",
    "    substitution_model = HKYSubstitutionModel(kappa, pi)\n",
    "    \n",
    "model"
   ]
  }
 ],
 "metadata": {
  "kernelspec": {
   "display_name": "Python 3",
   "language": "python",
   "name": "python3"
  },
  "language_info": {
   "codemirror_mode": {
    "name": "ipython",
    "version": 3
   },
   "file_extension": ".py",
   "mimetype": "text/x-python",
   "name": "python",
   "nbconvert_exporter": "python",
   "pygments_lexer": "ipython3",
   "version": "3.6.5"
  }
 },
 "nbformat": 4,
 "nbformat_minor": 2
}
