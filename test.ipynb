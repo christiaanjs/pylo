{
 "cells": [
  {
   "cell_type": "code",
   "execution_count": 46,
   "metadata": {},
   "outputs": [],
   "source": [
    "import numpy as np\n",
    "import theano\n",
    "import theano.tensor as tt\n",
    "import hky\n",
    "from importlib import reload\n",
    "reload(hky)\n",
    "\n",
    "from hky import *"
   ]
  },
  {
   "cell_type": "code",
   "execution_count": 64,
   "metadata": {},
   "outputs": [
    {
     "data": {
      "text/plain": [
       "array([[0.3953989 , 0.17226874, 0.21616618, 0.21616618],\n",
       "       [0.17226874, 0.3953989 , 0.21616618, 0.21616618],\n",
       "       [0.21616618, 0.21616618, 0.3953989 , 0.17226874],\n",
       "       [0.21616618, 0.21616618, 0.17226874, 0.3953989 ]])"
      ]
     },
     "execution_count": 64,
     "metadata": {},
     "output_type": "execute_result"
    }
   ],
   "source": [
    "Pt = hky_transition_probs(1.0, 2.0, np.ones(4)/4, 1).eval()\n",
    "Pt"
   ]
  },
  {
   "cell_type": "code",
   "execution_count": 22,
   "metadata": {},
   "outputs": [
    {
     "data": {
      "text/plain": [
       "array([0.86466472, 0.86466472])"
      ]
     },
     "execution_count": 22,
     "metadata": {},
     "output_type": "execute_result"
    }
   ],
   "source": [
    "x, y = np.array([1, 0]), np.array([2, 2])\n",
    "Pt[x, y].eval()"
   ]
  },
  {
   "cell_type": "code",
   "execution_count": 38,
   "metadata": {},
   "outputs": [
    {
     "data": {
      "text/plain": [
       "array([[0.3953989 , 0.17226874, 0.21616618, 0.21616618],\n",
       "       [0.17226874, 0.3953989 , 0.21616618, 0.21616618],\n",
       "       [0.21616618, 0.21616618, 0.3953989 , 0.17226874],\n",
       "       [0.21616618, 0.21616618, 0.17226874, 0.3953989 ]])"
      ]
     },
     "execution_count": 38,
     "metadata": {},
     "output_type": "execute_result"
    }
   ],
   "source": [
    "Pt_expm = hky_transition_probs_expm(1.0, 2.0, np.ones(4)/4, 1).eval()\n",
    "Pt_expm"
   ]
  },
  {
   "cell_type": "code",
   "execution_count": 63,
   "metadata": {},
   "outputs": [
    {
     "data": {
      "text/plain": [
       "array(-2.77555756e-17)"
      ]
     },
     "execution_count": 63,
     "metadata": {},
     "output_type": "execute_result"
    }
   ],
   "source": [
    "alpha = tt.scalar('alpha')\n",
    "beta = tt.scalar('beta')\n",
    "pi = tt.vector('pi')\n",
    "t = tt.scalar('t')\n",
    "Pt_sum = hky_transition_probs_expm(alpha, beta, pi, t).sum()\n",
    "grad_node = tt.grad(Pt_sum, alpha)\n",
    "grad_func = theano.function([alpha, beta, pi, t], grad_node)\n",
    "grad_func(1.0, 2.0, np.ones(4)/4, 1)"
   ]
  }
 ],
 "metadata": {
  "kernelspec": {
   "display_name": "Python 3",
   "language": "python",
   "name": "python3"
  },
  "language_info": {
   "codemirror_mode": {
    "name": "ipython",
    "version": 3
   },
   "file_extension": ".py",
   "mimetype": "text/x-python",
   "name": "python",
   "nbconvert_exporter": "python",
   "pygments_lexer": "ipython3",
   "version": "3.6.4"
  }
 },
 "nbformat": 4,
 "nbformat_minor": 2
}
