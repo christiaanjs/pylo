{
 "cells": [
  {
   "cell_type": "markdown",
   "metadata": {},
   "source": [
    "# Variational simulation study\n",
    "## Setup"
   ]
  },
  {
   "cell_type": "code",
   "execution_count": 2,
   "metadata": {},
   "outputs": [
    {
     "name": "stderr",
     "output_type": "stream",
     "text": [
      "/usr/lib/anaconda/lib/python3.6/site-packages/h5py/__init__.py:36: FutureWarning: Conversion of the second argument of issubdtype from `float` to `np.floating` is deprecated. In future, it will be treated as `np.float64 == np.dtype(float).type`.\n",
      "  from ._conv import register_converters as _register_converters\n"
     ]
    }
   ],
   "source": [
    "import yaml\n",
    "import json\n",
    "import pymc3 as pm\n",
    "import numpy as np\n",
    "import scipy\n",
    "import pandas as pd\n",
    "import matplotlib.pyplot as plt\n",
    "%matplotlib inline\n",
    "import random\n",
    "import sys\n",
    "import os\n",
    "import templating\n",
    "import variational_analysis\n",
    "import subprocess\n",
    "import process_results\n",
    "import pipeline"
   ]
  },
  {
   "cell_type": "code",
   "execution_count": 3,
   "metadata": {
    "tags": [
     "parameters"
    ]
   },
   "outputs": [
    {
     "data": {
      "text/plain": [
       "{'beast_jar': 'lib/feast.jar',\n",
       " 'burn_in': 0.1,\n",
       " 'chain_length': 2000000,\n",
       " 'cluster_type': 'neighborjoining2',\n",
       " 'cluster_with_dates': True,\n",
       " 'estimate_clock_rate': False,\n",
       " 'estimate_topology': False,\n",
       " 'frequencies': [0.24, 0.26, 0.26, 0.24],\n",
       " 'inference': 'mean_field',\n",
       " 'init_values': {'clock_rate': 1.0, 'kappa': 2.0, 'pop_size': 1000},\n",
       " 'kappa': 2.0,\n",
       " 'log_every': 100,\n",
       " 'mutation_rate': 0.001,\n",
       " 'n_eval_samples': 200,\n",
       " 'n_iter': 20000,\n",
       " 'n_runs': 3,\n",
       " 'n_taxa': 20,\n",
       " 'n_trace_samples': 1000,\n",
       " 'nuts_draws': 10000,\n",
       " 'nuts_tune': 100,\n",
       " 'out_dir': 'out/0',\n",
       " 'prior_params': {'clock_rate': {'m': 1.0, 's': 1.25},\n",
       "  'kappa': {'m': 1.0, 's': 1.25},\n",
       "  'pop_size': {'m': 2, 's': 0.1}},\n",
       " 'rate_sd': None,\n",
       " 'relaxed_clock': False,\n",
       " 'sampling_window': 20,\n",
       " 'seed': 1,\n",
       " 'sequence_length': 1000}"
      ]
     },
     "execution_count": 3,
     "metadata": {},
     "output_type": "execute_result"
    }
   ],
   "source": [
    "with open('config.yaml') as f:\n",
    "    config = yaml.load(f)\n",
    "\n",
    "config"
   ]
  },
  {
   "cell_type": "code",
   "execution_count": 4,
   "metadata": {},
   "outputs": [],
   "source": [
    "pipeline.do_seeding(config)\n",
    "out_dir = config['out_dir']\n",
    "if not os.path.exists(out_dir):\n",
    "    os.makedirs(out_dir)\n",
    "build_templates = templating.TemplateBuilder(out_dir)"
   ]
  },
  {
   "cell_type": "markdown",
   "metadata": {},
   "source": [
    "## Simulation"
   ]
  },
  {
   "cell_type": "markdown",
   "metadata": {},
   "source": [
    "### Population size"
   ]
  },
  {
   "cell_type": "code",
   "execution_count": 5,
   "metadata": {},
   "outputs": [
    {
     "data": {
      "text/plain": [
       "array([6.07391639, 8.98895318])"
      ]
     },
     "execution_count": 5,
     "metadata": {},
     "output_type": "execute_result"
    },
    {
     "data": {
      "image/png": "[encoded data removed]",
      "text/plain": [
       "<matplotlib.figure.Figure at 0x7fd1b60175c0>"
      ]
     },
     "metadata": {},
     "output_type": "display_data"
    }
   ],
   "source": [
    "pop_size_prior = scipy.stats.lognorm(scale=np.exp(config['prior_params']['pop_size']['m']), s=config['prior_params']['pop_size']['s'])\n",
    "xs = np.arange(0, pop_size_prior.ppf(0.999), 0.001)\n",
    "plt.plot(xs, pop_size_prior.pdf(xs));\n",
    "pop_size_prior.ppf([0.025, 0.975])"
   ]
  },
  {
   "cell_type": "code",
   "execution_count": 6,
   "metadata": {},
   "outputs": [
    {
     "data": {
      "text/plain": [
       "8.692273576071088"
      ]
     },
     "execution_count": 6,
     "metadata": {},
     "output_type": "execute_result"
    }
   ],
   "source": [
    "beast_args = ['java'] + pipeline.cmd_kwargs(jar=config['beast_jar'], seed=config['seed']) + ['-overwrite']\n",
    "pop_size, taxon_names, date_trait_string = build_templates.build_tree_sim(config)\n",
    "pop_size"
   ]
  },
  {
   "cell_type": "markdown",
   "metadata": {},
   "source": [
    "### Sampling times"
   ]
  },
  {
   "cell_type": "code",
   "execution_count": 7,
   "metadata": {},
   "outputs": [
    {
     "data": {
      "text/plain": [
       "18.863292844056232"
      ]
     },
     "execution_count": 7,
     "metadata": {},
     "output_type": "execute_result"
    },
    {
     "data": {
      "image/png": "[encoded data removed]",
      "text/plain": [
       "<matplotlib.figure.Figure at 0x7fd1b601b0f0>"
      ]
     },
     "metadata": {},
     "output_type": "display_data"
    }
   ],
   "source": [
    "import statsmodels\n",
    "sampling_times = [float(x.split('=')[1]) for x in date_trait_string.split(',')]\n",
    "plt.scatter(sampling_times, np.zeros_like(sampling_times), alpha=0.5);\n",
    "np.max(sampling_times) - np.min(sampling_times)"
   ]
  },
  {
   "cell_type": "markdown",
   "metadata": {},
   "source": [
    "### Tree simulation"
   ]
  },
  {
   "cell_type": "code",
   "execution_count": 22,
   "metadata": {},
   "outputs": [
    {
     "data": {
      "image/png": "[encoded data removed]",
      "text/plain": [
       "<matplotlib.figure.Figure at 0x7fd1b2252390>"
      ]
     },
     "metadata": {},
     "output_type": "display_data"
    },
    {
     "data": {
      "text/plain": [
       "35.67151"
      ]
     },
     "execution_count": 22,
     "metadata": {},
     "output_type": "execute_result"
    }
   ],
   "source": [
    "import Bio\n",
    "from io import StringIO\n",
    "\n",
    "subprocess.run(beast_args + [build_templates.tree_sim_out_path])\n",
    "newick_string = build_templates.extract_newick_string(build_templates.tree_sim_result_path)\n",
    "bio_tree = next(Bio.Phylo.parse(StringIO(newick_string), 'newick'))\n",
    "Bio.Phylo.draw(bio_tree)\n",
    "tree_height = max(bio_tree.depths().values())\n",
    "tree_height"
   ]
  },
  {
   "cell_type": "markdown",
   "metadata": {},
   "source": [
    "### Sequence simulation"
   ]
  }
 ],
 "metadata": {
  "celltoolbar": "Tags",
  "kernelspec": {
   "display_name": "Python 3",
   "language": "python",
   "name": "python3"
  }
 },
 "nbformat": 4,
 "nbformat_minor": 2
}
