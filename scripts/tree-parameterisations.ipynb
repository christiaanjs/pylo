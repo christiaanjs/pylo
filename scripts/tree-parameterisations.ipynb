{
 "cells": [
  {
   "cell_type": "markdown",
   "metadata": {},
   "source": [
    "# Experiments with parameterisations for time trees"
   ]
  },
  {
   "cell_type": "markdown",
   "metadata": {},
   "source": [
    "## Parameterise each node in terms of its height above highest child"
   ]
  },
  {
   "cell_type": "code",
   "execution_count": 1,
   "metadata": {},
   "outputs": [],
   "source": [
    "import numpy as np\n",
    "import pandas as pd\n",
    "import matplotlib.pyplot as plt\n",
    "%matplotlib inline"
   ]
  },
  {
   "cell_type": "code",
   "execution_count": 8,
   "metadata": {},
   "outputs": [
    {
     "data": {
      "text/plain": [
       "array([0.9, 2.4, 1.3, 3.2])"
      ]
     },
     "execution_count": 8,
     "metadata": {},
     "output_type": "execute_result"
    }
   ],
   "source": [
    "heights_above_children = np.array([0.9, 1.5, 1.3, 0.8])\n",
    "leaf_child_mask = np.array([[True, True],[False, True],[True, True],[False, False]])\n",
    "child_indices = np.array([[0, 0], [0, 0], [0, 0], [1, 2]])\n",
    "\n",
    "def calc_heights(heights_above_children, child_indices, leaf_child_mask):\n",
    "    heights = np.zeros_like(heights_above_children)\n",
    "    for i in range(len(heights)):\n",
    "        heights[i] = np.max(np.where(leaf_child_mask[i], 0, heights[child_indices[i]])) + heights_above_children[i]\n",
    "    return heights\n",
    "\n",
    "heights = calc_heights(heights_above_children, child_indices, leaf_child_mask)\n",
    "heights"
   ]
  },
  {
   "cell_type": "code",
   "execution_count": 13,
   "metadata": {},
   "outputs": [
    {
     "data": {
      "text/plain": [
       "array([[0.9, 0.9],\n",
       "       [1.5, 2.4],\n",
       "       [1.3, 1.3],\n",
       "       [0.8, 1.9]])"
      ]
     },
     "execution_count": 13,
     "metadata": {},
     "output_type": "execute_result"
    }
   ],
   "source": [
    "def calc_branch_lengths(heights, child_indices, leaf_child_mask):\n",
    "    return np.where(leaf_child_mask, heights[:, np.newaxis], heights[:, np.newaxis] - heights[child_indices])\n",
    "\n",
    "calc_branch_lengths(heights, child_indices, leaf_child_mask)"
   ]
  },
  {
   "cell_type": "code",
   "execution_count": 16,
   "metadata": {},
   "outputs": [
    {
     "data": {
      "text/plain": [
       "1.9000000000000001"
      ]
     },
     "execution_count": 16,
     "metadata": {},
     "output_type": "execute_result"
    }
   ],
   "source": [
    "def test_func(height_above_child):\n",
    "    heights_above_children_modified = np.copy(heights_above_children)\n",
    "    heights_above_children_modified[2] = height_above_child\n",
    "    heights = calc_heights(heights_above_children_modified, child_indices, leaf_child_mask)\n",
    "    return calc_branch_lengths(heights, child_indices, leaf_child_mask)[3, 1]\n",
    "\n",
    "test_func(1.3)"
   ]
  },
  {
   "cell_type": "code",
   "execution_count": 18,
   "metadata": {},
   "outputs": [
    {
     "data": {
      "text/plain": [
       "[<matplotlib.lines.Line2D at 0x7f0b5e1ee048>]"
      ]
     },
     "execution_count": 18,
     "metadata": {},
     "output_type": "execute_result"
    },
    {
     "data": {
      "image/png": "[encoded data removed]",
      "text/plain": [
       "<matplotlib.figure.Figure at 0x7f0b5deba978>"
      ]
     },
     "metadata": {},
     "output_type": "display_data"
    }
   ],
   "source": [
    "xs = np.arange(0.1, 5.0, 0.1)\n",
    "plt.plot(xs, [test_func(x) for x in xs])"
   ]
  }
 ],
 "metadata": {
  "kernelspec": {
   "display_name": "Python 3",
   "language": "python",
   "name": "python3"
  },
  "language_info": {
   "codemirror_mode": {
    "name": "ipython",
    "version": 3
   },
   "file_extension": ".py",
   "mimetype": "text/x-python",
   "name": "python",
   "nbconvert_exporter": "python",
   "pygments_lexer": "ipython3",
   "version": "3.6.4"
  }
 },
 "nbformat": 4,
 "nbformat_minor": 2
}
