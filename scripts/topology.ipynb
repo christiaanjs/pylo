{
 "cells": [
  {
   "cell_type": "code",
   "execution_count": 1,
   "metadata": {},
   "outputs": [
    {
     "name": "stdout",
     "output_type": "stream",
     "text": [
      "                            ┌─ANDI\n",
      "                     ┌──────┤\n",
      "                     │      └─DIGI\n",
      "              ┌──────┤\n",
      "              │      │             ┌─CASS\n",
      "              │      │      ┌──────┤\n",
      "       ┌──────┤      └──────┤      └─EMU\n",
      "       │      │             └─KIWI\n",
      "───────┤      │\n",
      "       │      └─RHEA\n",
      "       └─OST\n"
     ]
    }
   ],
   "source": [
    "import sys\n",
    "sys.path += ['/Users/cswa648/git/phylo-hacking/pymc']\n",
    "import theano\n",
    "import newick\n",
    "from xml.etree import ElementTree\n",
    "\n",
    "%matplotlib inline\n",
    "\n",
    "data_xml_filename = '../../data/ratites.SRD06.RLC.YULE.xml'\n",
    "xml_root = ElementTree.parse(data_xml_filename)\n",
    "newick_string = xml_root.find('.//newick').text\n",
    "tree = newick.loads(newick_string)[0]\n",
    "print(tree.ascii_art())"
   ]
  },
  {
   "cell_type": "code",
   "execution_count": 131,
   "metadata": {},
   "outputs": [],
   "source": [
    "sequence_dict = { seq_element.find('./taxon').attrib['idref']: list(seq_element.itertext())[-1].strip()\n",
    " for seq_element in xml_root.findall('.//sequence') }\n",
    "\n",
    "from importlib import reload\n",
    "import pylo.topology\n",
    "reload(pylo.topology)\n",
    "\n",
    "from pylo.topology import TreeTopology\n",
    "topology = TreeTopology(tree)\n",
    "\n",
    "import numpy as np\n",
    "from pylo.transform import group_sequences, encode_sequences\n",
    "sequence_dict_encoded = encode_sequences(sequence_dict)\n",
    "pattern_dict, pattern_counts = group_sequences(sequence_dict_encoded)\n",
    "child_patterns = np.array(topology.build_sequence_table(pattern_dict))\n",
    "pattern_counts = np.array(pattern_counts)\n",
    "\n",
    "import theano.tensor as tt\n",
    "\n",
    "child_patterns_ = tt.as_tensor_variable(child_patterns)\n",
    "pattern_counts_ = tt.as_tensor_variable(pattern_counts)"
   ]
  },
  {
   "cell_type": "code",
   "execution_count": 132,
   "metadata": {},
   "outputs": [
    {
     "data": {
      "text/latex": [
       "$$\n",
       "            \\begin{array}{rcl}\n",
       "            \\text{population_size} &\\sim & \\text{Gamma}(\\mathit{alpha}=2.0,~\\mathit{beta}=0.1)\\\\\\text{branch_lengths} &\\sim & \\text{Deterministic}(\\text{Constant},~\\text{Constant},~\\text{Constant},~\\text{Constant},~\\text{Constant},~\\text{Constant},~\\text{Constant},~\\text{Constant},~\\text{Constant},~\\text{Constant},~\\text{Constant},~\\text{Constant},~\\text{Constant},~\\text{tree_tree_height_proportion__},~\\text{Constant},~\\text{Constant},~\\text{Constant},~\\text{Constant},~\\text{Constant},~\\text{Constant},~\\text{Constant},~\\text{Constant},~\\text{Constant},~\\text{Constant},~\\text{Constant},~\\text{Constant},~\\text{Constant},~\\text{Constant},~\\text{Constant},~\\text{Constant},~\\text{Constant},~\\text{Constant},~\\text{Constant},~\\text{Constant},~\\text{Constant},~\\text{Constant},~\\text{tree_tree_height_proportion__},~\\text{Constant},~\\text{Constant},~\\text{Constant},~\\text{Constant},~\\text{Constant},~\\text{Constant},~\\text{Constant},~\\text{Constant},~\\text{Constant},~\\text{Constant},~\\text{Constant},~\\text{Constant},~\\text{Constant},~\\text{Constant},~\\text{Constant},~\\text{Constant},~\\text{Constant},~\\text{Constant},~\\text{Constant},~\\text{Constant},~\\text{tree_tree_height_proportion__},~\\text{Constant},~\\text{Constant},~\\text{Constant},~\\text{Constant},~\\text{Constant},~\\text{Constant},~\\text{Constant},~\\text{Constant},~\\text{Constant},~\\text{Constant},~\\text{Constant},~\\text{Constant},~\\text{Constant},~\\text{Constant},~\\text{Constant},~\\text{Constant},~\\text{Constant},~\\text{Constant},~\\text{Constant},~\\text{Constant},~\\text{tree_tree_height_proportion__},~\\text{Constant},~\\text{Constant},~\\text{Constant},~\\text{Constant},~\\text{Constant},~\\text{Constant},~\\text{Constant},~\\text{tree_tree_height_proportion__},~\\text{Constant},~\\text{Constant},~\\text{Constant},~\\text{Constant},~\\text{Constant},~\\text{Constant},~\\text{Constant},~\\text{Constant},~\\text{Constant},~\\text{Constant},~\\text{Constant},~\\text{Constant},~\\text{Constant},~\\text{Constant},~\\text{Constant},~\\text{Constant},~\\text{Constant},~\\text{tree_tree_height_proportion__},~\\text{Constant},~\\text{Constant},~\\text{Constant},~\\text{Constant},~\\text{Constant},~\\text{Constant},~\\text{Constant},~\\text{Constant},~\\text{Constant},~\\text{Constant},~\\text{Constant},~\\text{Constant},~\\text{Constant},~\\text{Constant},~\\text{Constant},~\\text{Constant},~\\text{Constant},~\\text{Constant},~\\text{tree_tree_height_proportion__},~\\text{Constant},~\\text{Constant},~\\text{Constant},~\\text{Constant},~\\text{Constant},~\\text{Constant},~\\text{Constant},~\\text{tree_tree_height_proportion__},~\\text{Constant},~\\text{Constant},~\\text{Constant},~\\text{Constant},~\\text{Constant},~\\text{Constant},~\\text{tree_tree_height_proportion__},~\\text{Constant},~\\text{Constant},~\\text{Constant},~\\text{Constant},~\\text{Constant},~\\text{Constant},~\\text{tree_tree_height_proportion__},~\\text{Constant},~\\text{Constant},~\\text{Constant},~\\text{Constant},~\\text{Constant},~\\text{tree_tree_height_proportion__},~\\text{Constant},~\\text{Constant},~\\text{Constant},~\\text{Constant},~\\text{Constant},~\\text{Constant},~\\text{Constant},~\\text{Constant},~\\text{Constant},~\\text{Constant},~\\text{Constant},~\\text{Constant},~\\text{Constant},~\\text{Constant},~\\text{Constant},~\\text{Constant},~\\text{Constant},~\\text{Constant},~\\text{Constant},~\\text{Constant},~\\text{Constant},~\\text{Constant},~\\text{tree_tree_height_proportion__},~\\text{Constant},~\\text{Constant},~\\text{Constant},~\\text{Constant},~\\text{Constant},~\\text{Constant},~\\text{Constant},~\\text{Constant},~\\text{Constant},~\\text{Constant},~\\text{Constant},~\\text{Constant},~\\text{Constant},~\\text{Constant},~\\text{Constant},~\\text{Constant},~\\text{Constant},~\\text{Constant},~\\text{Constant},~\\text{Constant},~\\text{Constant},~\\text{Constant},~\\text{tree_tree_height_proportion__},~\\text{Constant},~\\text{Constant},~\\text{Constant},~\\text{Constant},~\\text{Constant},~\\text{Constant},~\\text{Constant},~\\text{Constant},~\\text{Constant},~\\text{Constant},~\\text{Constant},~\\text{Constant},~\\text{Constant},~\\text{Constant},~\\text{Constant},~\\text{Constant},~\\text{Constant},~\\text{Constant},~\\text{Constant},~\\text{Constant},~\\text{tree_tree_height_proportion__},~\\text{Constant},~\\text{Constant},~\\text{Constant},~\\text{Constant},~\\text{Constant},~\\text{Constant},~\\text{Constant},~\\text{Constant},~\\text{Constant},~\\text{Constant},~\\text{Constant},~\\text{Constant},~\\text{Constant},~\\text{Constant},~\\text{Constant},~\\text{Constant},~\\text{Constant},~\\text{Constant},~\\text{Constant},~\\text{Constant},~\\text{tree_tree_height_proportion__},~\\text{Constant},~\\text{Constant},~\\text{Constant},~\\text{Constant},~\\text{Constant},~\\text{Constant},~\\text{Constant},~\\text{tree_tree_height_proportion__},~\\text{Constant},~\\text{Constant},~\\text{Constant},~\\text{Constant},~\\text{Constant},~\\text{Constant},~\\text{Constant},~\\text{Constant},~\\text{Constant},~\\text{Constant},~\\text{Constant},~\\text{Constant},~\\text{Constant},~\\text{Constant},~\\text{Constant},~\\text{Constant},~\\text{Constant},~\\text{tree_tree_height_proportion__},~\\text{Constant},~\\text{Constant},~\\text{Constant},~\\text{Constant},~\\text{Constant},~\\text{Constant},~\\text{Constant},~\\text{Constant},~\\text{Constant},~\\text{Constant},~\\text{Constant},~\\text{Constant},~\\text{Constant},~\\text{Constant},~\\text{Constant},~\\text{Constant},~\\text{Constant},~\\text{Constant},~\\text{tree_tree_height_proportion__},~\\text{Constant},~\\text{Constant},~\\text{Constant},~\\text{Constant},~\\text{Constant},~\\text{Constant},~\\text{Constant},~\\text{tree_tree_height_proportion__},~\\text{Constant},~\\text{Constant},~\\text{Constant},~\\text{Constant},~\\text{Constant},~\\text{Constant},~\\text{tree_tree_height_proportion__},~\\text{Constant},~\\text{Constant},~\\text{Constant},~\\text{Constant},~\\text{Constant},~\\text{Constant},~\\text{tree_tree_height_proportion__},~\\text{Constant},~\\text{Constant},~\\text{Constant},~\\text{Constant},~\\text{Constant},~\\text{tree_tree_height_proportion__},~\\text{Constant},~\\text{Constant},~\\text{Constant},~\\text{Constant},~\\text{Constant},~\\text{Constant},~\\text{Constant},~\\text{Constant},~\\text{Constant},~\\text{Constant},~\\text{Constant},~\\text{Constant},~\\text{Constant},~\\text{Constant},~\\text{Constant},~\\text{Constant},~\\text{Constant},~\\text{Constant},~\\text{Constant},~\\text{Constant},~\\text{Constant},~\\text{Constant},~\\text{Constant},~\\text{Constant},~\\text{tree_tree_height_proportion__},~\\text{Constant},~\\text{Constant},~\\text{Constant},~\\text{Constant},~\\text{Constant},~\\text{Constant},~\\text{Constant},~\\text{Constant},~\\text{Constant},~\\text{Constant},~\\text{Constant},~\\text{Constant},~\\text{Constant},~\\text{Constant},~\\text{Constant},~\\text{Constant},~\\text{Constant},~\\text{Constant},~\\text{Constant},~\\text{Constant},~\\text{Constant},~\\text{Constant},~\\text{tree_tree_height_proportion__},~\\text{Constant},~\\text{Constant},~\\text{Constant},~\\text{Constant},~\\text{Constant},~\\text{Constant},~\\text{Constant},~\\text{Constant},~\\text{Constant},~\\text{Constant},~\\text{Constant},~\\text{Constant},~\\text{Constant},~\\text{Constant},~\\text{Constant},~\\text{Constant},~\\text{Constant},~\\text{Constant},~\\text{Constant},~\\text{Constant},~\\text{tree_tree_height_proportion__},~\\text{Constant},~\\text{Constant},~\\text{Constant},~\\text{Constant},~\\text{Constant},~\\text{Constant},~\\text{Constant},~\\text{Constant},~\\text{Constant},~\\text{Constant},~\\text{Constant},~\\text{Constant},~\\text{Constant},~\\text{Constant},~\\text{Constant},~\\text{Constant},~\\text{Constant},~\\text{Constant},~\\text{Constant},~\\text{Constant},~\\text{tree_tree_height_proportion__},~\\text{Constant},~\\text{Constant},~\\text{Constant},~\\text{Constant},~\\text{Constant},~\\text{Constant},~\\text{Constant},~\\text{tree_tree_height_proportion__},~\\text{Constant},~\\text{Constant},~\\text{Constant},~\\text{Constant},~\\text{Constant},~\\text{Constant},~\\text{Constant},~\\text{Constant},~\\text{Constant},~\\text{Constant},~\\text{Constant},~\\text{Constant},~\\text{Constant},~\\text{Constant},~\\text{Constant},~\\text{Constant},~\\text{Constant},~\\text{tree_tree_height_proportion__},~\\text{Constant},~\\text{Constant},~\\text{Constant},~\\text{Constant},~\\text{Constant},~\\text{Constant},~\\text{Constant},~\\text{Constant},~\\text{Constant},~\\text{Constant},~\\text{Constant},~\\text{Constant},~\\text{Constant},~\\text{Constant},~\\text{Constant},~\\text{Constant},~\\text{Constant},~\\text{Constant},~\\text{tree_tree_height_proportion__},~\\text{Constant},~\\text{Constant},~\\text{Constant},~\\text{Constant},~\\text{Constant},~\\text{Constant},~\\text{Constant},~\\text{tree_tree_height_proportion__},~\\text{Constant},~\\text{Constant},~\\text{Constant},~\\text{Constant},~\\text{Constant},~\\text{Constant},~\\text{tree_tree_height_proportion__},~\\text{Constant},~\\text{Constant},~\\text{Constant},~\\text{Constant},~\\text{Constant},~\\text{Constant},~\\text{tree_tree_height_proportion__},~\\text{Constant},~\\text{Constant},~\\text{Constant},~\\text{Constant},~\\text{Constant},~\\text{tree_tree_height_proportion__},~\\text{Constant},~\\text{Constant},~\\text{Constant},~\\text{Constant},~\\text{Constant},~\\text{Constant},~\\text{Constant},~\\text{Constant})\\\\\\text{rates} &\\sim & \\text{Lognormal}(\\mathit{mu}=0,~\\mathit{tau}=1.0)\\\\\\text{distances} &\\sim & \\text{Deterministic}(\\text{rates_log__},~\\text{Constant},~\\text{Constant},~\\text{Constant},~\\text{Constant},~\\text{Constant},~\\text{Constant},~\\text{Constant},~\\text{Constant},~\\text{Constant},~\\text{Constant},~\\text{Constant},~\\text{Constant},~\\text{Constant},~\\text{tree_tree_height_proportion__},~\\text{Constant},~\\text{Constant},~\\text{Constant},~\\text{Constant},~\\text{Constant},~\\text{Constant},~\\text{Constant},~\\text{Constant},~\\text{Constant},~\\text{Constant},~\\text{Constant},~\\text{Constant},~\\text{Constant},~\\text{Constant},~\\text{Constant},~\\text{Constant},~\\text{Constant},~\\text{Constant},~\\text{Constant},~\\text{Constant},~\\text{Constant},~\\text{Constant},~\\text{tree_tree_height_proportion__},~\\text{Constant},~\\text{Constant},~\\text{Constant},~\\text{Constant},~\\text{Constant},~\\text{Constant},~\\text{Constant},~\\text{Constant},~\\text{Constant},~\\text{Constant},~\\text{Constant},~\\text{Constant},~\\text{Constant},~\\text{Constant},~\\text{Constant},~\\text{Constant},~\\text{Constant},~\\text{Constant},~\\text{Constant},~\\text{Constant},~\\text{tree_tree_height_proportion__},~\\text{Constant},~\\text{Constant},~\\text{Constant},~\\text{Constant},~\\text{Constant},~\\text{Constant},~\\text{Constant},~\\text{Constant},~\\text{Constant},~\\text{Constant},~\\text{Constant},~\\text{Constant},~\\text{Constant},~\\text{Constant},~\\text{Constant},~\\text{Constant},~\\text{Constant},~\\text{Constant},~\\text{Constant},~\\text{Constant},~\\text{tree_tree_height_proportion__},~\\text{Constant},~\\text{Constant},~\\text{Constant},~\\text{Constant},~\\text{Constant},~\\text{Constant},~\\text{Constant},~\\text{tree_tree_height_proportion__},~\\text{Constant},~\\text{Constant},~\\text{Constant},~\\text{Constant},~\\text{Constant},~\\text{Constant},~\\text{Constant},~\\text{Constant},~\\text{Constant},~\\text{Constant},~\\text{Constant},~\\text{Constant},~\\text{Constant},~\\text{Constant},~\\text{Constant},~\\text{Constant},~\\text{Constant},~\\text{tree_tree_height_proportion__},~\\text{Constant},~\\text{Constant},~\\text{Constant},~\\text{Constant},~\\text{Constant},~\\text{Constant},~\\text{Constant},~\\text{Constant},~\\text{Constant},~\\text{Constant},~\\text{Constant},~\\text{Constant},~\\text{Constant},~\\text{Constant},~\\text{Constant},~\\text{Constant},~\\text{Constant},~\\text{Constant},~\\text{tree_tree_height_proportion__},~\\text{Constant},~\\text{Constant},~\\text{Constant},~\\text{Constant},~\\text{Constant},~\\text{Constant},~\\text{Constant},~\\text{tree_tree_height_proportion__},~\\text{Constant},~\\text{Constant},~\\text{Constant},~\\text{Constant},~\\text{Constant},~\\text{Constant},~\\text{tree_tree_height_proportion__},~\\text{Constant},~\\text{Constant},~\\text{Constant},~\\text{Constant},~\\text{Constant},~\\text{Constant},~\\text{tree_tree_height_proportion__},~\\text{Constant},~\\text{Constant},~\\text{Constant},~\\text{Constant},~\\text{Constant},~\\text{tree_tree_height_proportion__},~\\text{Constant},~\\text{Constant},~\\text{Constant},~\\text{Constant},~\\text{Constant},~\\text{Constant},~\\text{Constant},~\\text{Constant},~\\text{Constant},~\\text{Constant},~\\text{Constant},~\\text{Constant},~\\text{Constant},~\\text{Constant},~\\text{Constant},~\\text{Constant},~\\text{Constant},~\\text{Constant},~\\text{Constant},~\\text{Constant},~\\text{Constant},~\\text{Constant},~\\text{tree_tree_height_proportion__},~\\text{Constant},~\\text{Constant},~\\text{Constant},~\\text{Constant},~\\text{Constant},~\\text{Constant},~\\text{Constant},~\\text{Constant},~\\text{Constant},~\\text{Constant},~\\text{Constant},~\\text{Constant},~\\text{Constant},~\\text{Constant},~\\text{Constant},~\\text{Constant},~\\text{Constant},~\\text{Constant},~\\text{Constant},~\\text{Constant},~\\text{Constant},~\\text{Constant},~\\text{tree_tree_height_proportion__},~\\text{Constant},~\\text{Constant},~\\text{Constant},~\\text{Constant},~\\text{Constant},~\\text{Constant},~\\text{Constant},~\\text{Constant},~\\text{Constant},~\\text{Constant},~\\text{Constant},~\\text{Constant},~\\text{Constant},~\\text{Constant},~\\text{Constant},~\\text{Constant},~\\text{Constant},~\\text{Constant},~\\text{Constant},~\\text{Constant},~\\text{tree_tree_height_proportion__},~\\text{Constant},~\\text{Constant},~\\text{Constant},~\\text{Constant},~\\text{Constant},~\\text{Constant},~\\text{Constant},~\\text{Constant},~\\text{Constant},~\\text{Constant},~\\text{Constant},~\\text{Constant},~\\text{Constant},~\\text{Constant},~\\text{Constant},~\\text{Constant},~\\text{Constant},~\\text{Constant},~\\text{Constant},~\\text{Constant},~\\text{tree_tree_height_proportion__},~\\text{Constant},~\\text{Constant},~\\text{Constant},~\\text{Constant},~\\text{Constant},~\\text{Constant},~\\text{Constant},~\\text{tree_tree_height_proportion__},~\\text{Constant},~\\text{Constant},~\\text{Constant},~\\text{Constant},~\\text{Constant},~\\text{Constant},~\\text{Constant},~\\text{Constant},~\\text{Constant},~\\text{Constant},~\\text{Constant},~\\text{Constant},~\\text{Constant},~\\text{Constant},~\\text{Constant},~\\text{Constant},~\\text{Constant},~\\text{tree_tree_height_proportion__},~\\text{Constant},~\\text{Constant},~\\text{Constant},~\\text{Constant},~\\text{Constant},~\\text{Constant},~\\text{Constant},~\\text{Constant},~\\text{Constant},~\\text{Constant},~\\text{Constant},~\\text{Constant},~\\text{Constant},~\\text{Constant},~\\text{Constant},~\\text{Constant},~\\text{Constant},~\\text{Constant},~\\text{tree_tree_height_proportion__},~\\text{Constant},~\\text{Constant},~\\text{Constant},~\\text{Constant},~\\text{Constant},~\\text{Constant},~\\text{Constant},~\\text{tree_tree_height_proportion__},~\\text{Constant},~\\text{Constant},~\\text{Constant},~\\text{Constant},~\\text{Constant},~\\text{Constant},~\\text{tree_tree_height_proportion__},~\\text{Constant},~\\text{Constant},~\\text{Constant},~\\text{Constant},~\\text{Constant},~\\text{Constant},~\\text{tree_tree_height_proportion__},~\\text{Constant},~\\text{Constant},~\\text{Constant},~\\text{Constant},~\\text{Constant},~\\text{tree_tree_height_proportion__},~\\text{Constant},~\\text{Constant},~\\text{Constant},~\\text{Constant},~\\text{Constant},~\\text{Constant},~\\text{Constant},~\\text{Constant},~\\text{Constant},~\\text{Constant},~\\text{Constant},~\\text{Constant},~\\text{Constant},~\\text{Constant},~\\text{Constant},~\\text{Constant},~\\text{Constant},~\\text{Constant},~\\text{Constant},~\\text{Constant},~\\text{Constant},~\\text{Constant},~\\text{Constant},~\\text{Constant},~\\text{tree_tree_height_proportion__},~\\text{Constant},~\\text{Constant},~\\text{Constant},~\\text{Constant},~\\text{Constant},~\\text{Constant},~\\text{Constant},~\\text{Constant},~\\text{Constant},~\\text{Constant},~\\text{Constant},~\\text{Constant},~\\text{Constant},~\\text{Constant},~\\text{Constant},~\\text{Constant},~\\text{Constant},~\\text{Constant},~\\text{Constant},~\\text{Constant},~\\text{Constant},~\\text{Constant},~\\text{tree_tree_height_proportion__},~\\text{Constant},~\\text{Constant},~\\text{Constant},~\\text{Constant},~\\text{Constant},~\\text{Constant},~\\text{Constant},~\\text{Constant},~\\text{Constant},~\\text{Constant},~\\text{Constant},~\\text{Constant},~\\text{Constant},~\\text{Constant},~\\text{Constant},~\\text{Constant},~\\text{Constant},~\\text{Constant},~\\text{Constant},~\\text{Constant},~\\text{tree_tree_height_proportion__},~\\text{Constant},~\\text{Constant},~\\text{Constant},~\\text{Constant},~\\text{Constant},~\\text{Constant},~\\text{Constant},~\\text{Constant},~\\text{Constant},~\\text{Constant},~\\text{Constant},~\\text{Constant},~\\text{Constant},~\\text{Constant},~\\text{Constant},~\\text{Constant},~\\text{Constant},~\\text{Constant},~\\text{Constant},~\\text{Constant},~\\text{tree_tree_height_proportion__},~\\text{Constant},~\\text{Constant},~\\text{Constant},~\\text{Constant},~\\text{Constant},~\\text{Constant},~\\text{Constant},~\\text{tree_tree_height_proportion__},~\\text{Constant},~\\text{Constant},~\\text{Constant},~\\text{Constant},~\\text{Constant},~\\text{Constant},~\\text{Constant},~\\text{Constant},~\\text{Constant},~\\text{Constant},~\\text{Constant},~\\text{Constant},~\\text{Constant},~\\text{Constant},~\\text{Constant},~\\text{Constant},~\\text{Constant},~\\text{tree_tree_height_proportion__},~\\text{Constant},~\\text{Constant},~\\text{Constant},~\\text{Constant},~\\text{Constant},~\\text{Constant},~\\text{Constant},~\\text{Constant},~\\text{Constant},~\\text{Constant},~\\text{Constant},~\\text{Constant},~\\text{Constant},~\\text{Constant},~\\text{Constant},~\\text{Constant},~\\text{Constant},~\\text{Constant},~\\text{tree_tree_height_proportion__},~\\text{Constant},~\\text{Constant},~\\text{Constant},~\\text{Constant},~\\text{Constant},~\\text{Constant},~\\text{Constant},~\\text{tree_tree_height_proportion__},~\\text{Constant},~\\text{Constant},~\\text{Constant},~\\text{Constant},~\\text{Constant},~\\text{Constant},~\\text{tree_tree_height_proportion__},~\\text{Constant},~\\text{Constant},~\\text{Constant},~\\text{Constant},~\\text{Constant},~\\text{Constant},~\\text{tree_tree_height_proportion__},~\\text{Constant},~\\text{Constant},~\\text{Constant},~\\text{Constant},~\\text{Constant},~\\text{tree_tree_height_proportion__},~\\text{Constant},~\\text{Constant},~\\text{Constant},~\\text{Constant},~\\text{Constant},~\\text{Constant},~\\text{Constant},~\\text{Constant})\\\\\\text{kappa} &\\sim & \\text{Exponential}(\\mathit{lam}=0.1)\\\\pi &\\sim & \\text{Dirichlet}(\\mathit{a}=array)\n",
       "            \\end{array}\n",
       "            $$"
      ],
      "text/plain": [
       "<pymc3.model.Model at 0x1c29a821d0>"
      ]
     },
     "execution_count": 132,
     "metadata": {},
     "output_type": "execute_result"
    }
   ],
   "source": [
    "import pylo.tree.coalescent\n",
    "import pylo.pruning\n",
    "\n",
    "reload(pylo.tree.coalescent)\n",
    "reload(pylo.pruning)\n",
    "\n",
    "import pymc3 as pm\n",
    "from pylo.tree.coalescent import CoalescentTree, ConstantPopulationFunction\n",
    "from pylo.hky import HKYSubstitutionModel\n",
    "from pylo.pruning import LeafSequences\n",
    "\n",
    "with pm.Model() as model:    \n",
    "    population_size = pm.Gamma('population_size', alpha=2.0, beta=0.1)\n",
    "    population_function = ConstantPopulationFunction(topology, population_size)\n",
    "    tree_heights = CoalescentTree('tree', topology, population_function)\n",
    "    branch_lengths = pm.Deterministic('branch_lengths', topology.get_child_branch_lengths(tree_heights))\n",
    "    rates = pm.Lognormal('rates', shape=(topology.get_internal_node_count(), 2))\n",
    "    \n",
    "    distances = pm.Deterministic('distances', rates*branch_lengths)\n",
    "    \n",
    "    kappa = pm.Exponential('kappa', lam=0.1)\n",
    "    pi = pm.Dirichlet('pi', a=np.ones(4))\n",
    "    \n",
    "    substitution_model = HKYSubstitutionModel(kappa, pi)\n",
    "    sequences = LeafSequences('sequences', topology, substitution_model, distances, child_patterns_, pattern_counts_)\n",
    "    \n",
    "model"
   ]
  },
  {
   "cell_type": "code",
   "execution_count": 14,
   "metadata": {},
   "outputs": [
    {
     "name": "stdout",
     "output_type": "stream",
     "text": [
      "population_size_log__ [2.22044605e-16]\n",
      "tree_tree_height_proportion__ [-1.05698841 -0.40460858 -0.19809907  0.27117483 -0.14753601  2.25793952\n",
      " -2.61624531]\n",
      "rates_log__ [-0. -0. -0. -0. -0. -0. -0. -0. -0. -0. -0. -0.]\n",
      "kappa_log__ [0.30685282]\n",
      "pi_stickbreaking__ [2.22044605e-16 1.11022302e-16 0.00000000e+00]\n"
     ]
    }
   ],
   "source": [
    "for RV in model.basic_RVs:\n",
    "    print(RV.name, RV.logp()(model.test_point))"
   ]
  },
  {
   "cell_type": "code",
   "execution_count": 88,
   "metadata": {},
   "outputs": [
    {
     "data": {
      "text/plain": [
       "[array([ -2.73323126, -19.79893947, -14.22547334,  -1.21857168,\n",
       "         -7.31402012,          nan]),\n",
       " array([  -6.42265503, -165.94033232,  -17.03279796,   -2.14978332,\n",
       "          -4.48153137,           nan]),\n",
       " array([ -3.83118748, -22.3522723 , -14.78518453,  -3.6675207 ,\n",
       "         -4.06782641,          nan])]"
      ]
     },
     "execution_count": 88,
     "metadata": {},
     "output_type": "execute_result"
    }
   ],
   "source": [
    "model.test_point\n",
    "\n",
    "def random_point():\n",
    "    return { key: np.random.normal(size=val.shape) for key, val in model.test_point.items() }\n",
    "\n",
    "sequences_fn = model.fn(sequences)\n",
    "\n",
    "def logps(point):\n",
    "    return np.concatenate([[RV.logp(point) for RV in model.basic_RVs], [sequences_fn(point)]])\n",
    "\n",
    "[logps(random_point()) for i in range(3)]"
   ]
  },
  {
   "cell_type": "code",
   "execution_count": 148,
   "metadata": {},
   "outputs": [
    {
     "data": {
      "text/plain": [
       "array([[ True,  True],\n",
       "       [ True,  True],\n",
       "       [False,  True],\n",
       "       [False, False],\n",
       "       [False,  True],\n",
       "       [False,  True]])"
      ]
     },
     "execution_count": 148,
     "metadata": {},
     "output_type": "execute_result"
    }
   ],
   "source": [
    "topology.get_node_child_leaf_mask()"
   ]
  },
  {
   "cell_type": "code",
   "execution_count": 150,
   "metadata": {},
   "outputs": [
    {
     "data": {
      "text/plain": [
       "array([ 0.,  0., 15., 10., 10., 45., 10., 55., 65., 20., 75., 10., 95.])"
      ]
     },
     "execution_count": 150,
     "metadata": {},
     "output_type": "execute_result"
    }
   ],
   "source": [
    "topology.get_init_heights()"
   ]
  },
  {
   "cell_type": "code",
   "execution_count": 149,
   "metadata": {},
   "outputs": [
    {
     "data": {
      "text/plain": [
       "array([[ 0,  1],\n",
       "       [ 3,  4],\n",
       "       [ 5,  6],\n",
       "       [ 2,  7],\n",
       "       [ 8,  9],\n",
       "       [10, 11]])"
      ]
     },
     "execution_count": 149,
     "metadata": {},
     "output_type": "execute_result"
    }
   ],
   "source": [
    "topology.child_indices[topology.node_mask]"
   ]
  },
  {
   "cell_type": "code",
   "execution_count": 154,
   "metadata": {},
   "outputs": [
    {
     "data": {
      "text/plain": [
       "array([[15., 15.],\n",
       "       [35., 35.],\n",
       "       [10., 45.],\n",
       "       [50., 10.],\n",
       "       [10., 55.],\n",
       "       [20., 85.]])"
      ]
     },
     "execution_count": 154,
     "metadata": {},
     "output_type": "execute_result"
    }
   ],
   "source": [
    "topology.init_heights[topology.node_mask, np.newaxis] - topology.init_heights[topology.child_indices[topology.node_mask]]"
   ]
  },
  {
   "cell_type": "code",
   "execution_count": 161,
   "metadata": {},
   "outputs": [
    {
     "data": {
      "text/plain": [
       "array([[ True,  True],\n",
       "       [ True,  True],\n",
       "       [False,  True],\n",
       "       [False, False],\n",
       "       [False,  True],\n",
       "       [False,  True]])"
      ]
     },
     "execution_count": 161,
     "metadata": {},
     "output_type": "execute_result"
    }
   ],
   "source": [
    "topology.get_node_child_leaf_mask()"
   ]
  },
  {
   "cell_type": "code",
   "execution_count": 160,
   "metadata": {},
   "outputs": [
    {
     "data": {
      "text/plain": [
       "array([[-1, -1],\n",
       "       [-1, -1],\n",
       "       [ 1, -1],\n",
       "       [ 0,  2],\n",
       "       [ 3, -1],\n",
       "       [ 4, -1]])"
      ]
     },
     "execution_count": 160,
     "metadata": {},
     "output_type": "execute_result"
    }
   ],
   "source": [
    "topology.node_index_mapping[topology.child_indices[topology.node_mask]]"
   ]
  },
  {
   "cell_type": "code",
   "execution_count": 147,
   "metadata": {},
   "outputs": [
    {
     "data": {
      "text/plain": [
       "(array(453999.21132449), array([[-10.58468291, -10.58468291],\n",
       "        [ -9.497373  ,  -9.497373  ],\n",
       "        [  1.01926153,  -8.47811147],\n",
       "        [  4.49602817,   2.38945673],\n",
       "        [  6.03634872,  -0.05230602],\n",
       "        [  0.05230602,   0.        ]]))"
      ]
     },
     "execution_count": 147,
     "metadata": {},
     "output_type": "execute_result"
    }
   ],
   "source": [
    "point = random_point()\n",
    "\n",
    "sequences_fn(point), branch_lengths_fn(point)"
   ]
  },
  {
   "cell_type": "code",
   "execution_count": 44,
   "metadata": {},
   "outputs": [
    {
     "name": "stderr",
     "output_type": "stream",
     "text": [
      "  0%|          | 0/100000 [00:00<?, ?it/s]\n"
     ]
    },
    {
     "ename": "FloatingPointError",
     "evalue": "NaN occurred in optimization. \nThe current approximation of RV `rates_log__`.ravel()[0] is NaN.\nThe current approximation of RV `rates_log__`.ravel()[1] is NaN.\nThe current approximation of RV `rates_log__`.ravel()[2] is NaN.\nThe current approximation of RV `rates_log__`.ravel()[3] is NaN.\nThe current approximation of RV `rates_log__`.ravel()[4] is NaN.\nThe current approximation of RV `rates_log__`.ravel()[5] is NaN.\nThe current approximation of RV `rates_log__`.ravel()[6] is NaN.\nThe current approximation of RV `rates_log__`.ravel()[7] is NaN.\nThe current approximation of RV `rates_log__`.ravel()[8] is NaN.\nThe current approximation of RV `rates_log__`.ravel()[9] is NaN.\nThe current approximation of RV `rates_log__`.ravel()[10] is NaN.\nThe current approximation of RV `rates_log__`.ravel()[11] is NaN.\nThe current approximation of RV `kappa_log__`.ravel()[0] is NaN.\nThe current approximation of RV `pi_stickbreaking__`.ravel()[0] is NaN.\nThe current approximation of RV `pi_stickbreaking__`.ravel()[1] is NaN.\nThe current approximation of RV `pi_stickbreaking__`.ravel()[2] is NaN.\nThe current approximation of RV `tree_tree_height_proportion__`.ravel()[0] is NaN.\nThe current approximation of RV `tree_tree_height_proportion__`.ravel()[1] is NaN.\nThe current approximation of RV `tree_tree_height_proportion__`.ravel()[2] is NaN.\nThe current approximation of RV `tree_tree_height_proportion__`.ravel()[3] is NaN.\nThe current approximation of RV `tree_tree_height_proportion__`.ravel()[4] is NaN.\nThe current approximation of RV `tree_tree_height_proportion__`.ravel()[5] is NaN.\nTry tracking this parameter: http://docs.pymc.io/notebooks/variational_api_quickstart.html#Tracking-parameters",
     "output_type": "error",
     "traceback": [
      "\u001b[0;31m---------------------------------------------------------------------------\u001b[0m",
      "\u001b[0;31mFloatingPointError\u001b[0m                        Traceback (most recent call last)",
      "\u001b[0;32m<ipython-input-44-48b6ea4aadde>\u001b[0m in \u001b[0;36m<module>\u001b[0;34m()\u001b[0m\n\u001b[1;32m     13\u001b[0m \u001b[0mconvergence\u001b[0m \u001b[0;34m=\u001b[0m \u001b[0mpm\u001b[0m\u001b[0;34m.\u001b[0m\u001b[0mcallbacks\u001b[0m\u001b[0;34m.\u001b[0m\u001b[0mCheckParametersConvergence\u001b[0m\u001b[0;34m(\u001b[0m\u001b[0mtolerance\u001b[0m\u001b[0;34m=\u001b[0m\u001b[0mtolerance\u001b[0m\u001b[0;34m,\u001b[0m \u001b[0mdiff\u001b[0m\u001b[0;34m=\u001b[0m\u001b[0;34m'relative'\u001b[0m\u001b[0;34m)\u001b[0m\u001b[0;34m\u001b[0m\u001b[0;34m\u001b[0m\u001b[0m\n\u001b[1;32m     14\u001b[0m \u001b[0;34m\u001b[0m\u001b[0m\n\u001b[0;32m---> 15\u001b[0;31m \u001b[0mfit\u001b[0m \u001b[0;34m=\u001b[0m \u001b[0mfullrank\u001b[0m\u001b[0;34m.\u001b[0m\u001b[0mfit\u001b[0m\u001b[0;34m(\u001b[0m\u001b[0mn\u001b[0m\u001b[0;34m=\u001b[0m\u001b[0;36m100000\u001b[0m\u001b[0;34m,\u001b[0m \u001b[0mcallbacks\u001b[0m\u001b[0;34m=\u001b[0m\u001b[0;34m[\u001b[0m\u001b[0mfr_tracker\u001b[0m\u001b[0;34m,\u001b[0m \u001b[0mconvergence\u001b[0m\u001b[0;34m]\u001b[0m\u001b[0;34m)\u001b[0m\u001b[0;34m\u001b[0m\u001b[0;34m\u001b[0m\u001b[0m\n\u001b[0m\u001b[1;32m     16\u001b[0m \u001b[0;34m\u001b[0m\u001b[0m\n\u001b[1;32m     17\u001b[0m \u001b[0mfig\u001b[0m \u001b[0;34m=\u001b[0m \u001b[0mplt\u001b[0m\u001b[0;34m.\u001b[0m\u001b[0mfigure\u001b[0m\u001b[0;34m(\u001b[0m\u001b[0mfigsize\u001b[0m\u001b[0;34m=\u001b[0m\u001b[0;34m(\u001b[0m\u001b[0;36m16\u001b[0m\u001b[0;34m,\u001b[0m \u001b[0;36m9\u001b[0m\u001b[0;34m)\u001b[0m\u001b[0;34m)\u001b[0m\u001b[0;34m\u001b[0m\u001b[0;34m\u001b[0m\u001b[0m\n",
      "\u001b[0;32m~/envs/python36/lib/python3.6/site-packages/pymc3/variational/inference.py\u001b[0m in \u001b[0;36mfit\u001b[0;34m(self, n, score, callbacks, progressbar, **kwargs)\u001b[0m\n\u001b[1;32m    134\u001b[0m         \u001b[0;32mwith\u001b[0m \u001b[0mtqdm\u001b[0m\u001b[0;34m.\u001b[0m\u001b[0mtrange\u001b[0m\u001b[0;34m(\u001b[0m\u001b[0mn\u001b[0m\u001b[0;34m,\u001b[0m \u001b[0mdisable\u001b[0m\u001b[0;34m=\u001b[0m\u001b[0;32mnot\u001b[0m \u001b[0mprogressbar\u001b[0m\u001b[0;34m)\u001b[0m \u001b[0;32mas\u001b[0m \u001b[0mprogress\u001b[0m\u001b[0;34m:\u001b[0m\u001b[0;34m\u001b[0m\u001b[0;34m\u001b[0m\u001b[0m\n\u001b[1;32m    135\u001b[0m             \u001b[0;32mif\u001b[0m \u001b[0mscore\u001b[0m\u001b[0;34m:\u001b[0m\u001b[0;34m\u001b[0m\u001b[0;34m\u001b[0m\u001b[0m\n\u001b[0;32m--> 136\u001b[0;31m                 \u001b[0mstate\u001b[0m \u001b[0;34m=\u001b[0m \u001b[0mself\u001b[0m\u001b[0;34m.\u001b[0m\u001b[0m_iterate_with_loss\u001b[0m\u001b[0;34m(\u001b[0m\u001b[0;36m0\u001b[0m\u001b[0;34m,\u001b[0m \u001b[0mn\u001b[0m\u001b[0;34m,\u001b[0m \u001b[0mstep_func\u001b[0m\u001b[0;34m,\u001b[0m \u001b[0mprogress\u001b[0m\u001b[0;34m,\u001b[0m \u001b[0mcallbacks\u001b[0m\u001b[0;34m)\u001b[0m\u001b[0;34m\u001b[0m\u001b[0;34m\u001b[0m\u001b[0m\n\u001b[0m\u001b[1;32m    137\u001b[0m             \u001b[0;32melse\u001b[0m\u001b[0;34m:\u001b[0m\u001b[0;34m\u001b[0m\u001b[0;34m\u001b[0m\u001b[0m\n\u001b[1;32m    138\u001b[0m                 \u001b[0mstate\u001b[0m \u001b[0;34m=\u001b[0m \u001b[0mself\u001b[0m\u001b[0;34m.\u001b[0m\u001b[0m_iterate_without_loss\u001b[0m\u001b[0;34m(\u001b[0m\u001b[0;36m0\u001b[0m\u001b[0;34m,\u001b[0m \u001b[0mn\u001b[0m\u001b[0;34m,\u001b[0m \u001b[0mstep_func\u001b[0m\u001b[0;34m,\u001b[0m \u001b[0mprogress\u001b[0m\u001b[0;34m,\u001b[0m \u001b[0mcallbacks\u001b[0m\u001b[0;34m)\u001b[0m\u001b[0;34m\u001b[0m\u001b[0;34m\u001b[0m\u001b[0m\n",
      "\u001b[0;32m~/envs/python36/lib/python3.6/site-packages/pymc3/variational/inference.py\u001b[0m in \u001b[0;36m_iterate_with_loss\u001b[0;34m(self, s, n, step_func, progress, callbacks)\u001b[0m\n\u001b[1;32m    218\u001b[0m                     \u001b[0;32mexcept\u001b[0m \u001b[0mIndexError\u001b[0m\u001b[0;34m:\u001b[0m\u001b[0;34m\u001b[0m\u001b[0;34m\u001b[0m\u001b[0m\n\u001b[1;32m    219\u001b[0m                         \u001b[0;32mpass\u001b[0m\u001b[0;34m\u001b[0m\u001b[0;34m\u001b[0m\u001b[0m\n\u001b[0;32m--> 220\u001b[0;31m                     \u001b[0;32mraise\u001b[0m \u001b[0mFloatingPointError\u001b[0m\u001b[0;34m(\u001b[0m\u001b[0;34m'\\n'\u001b[0m\u001b[0;34m.\u001b[0m\u001b[0mjoin\u001b[0m\u001b[0;34m(\u001b[0m\u001b[0merrmsg\u001b[0m\u001b[0;34m)\u001b[0m\u001b[0;34m)\u001b[0m\u001b[0;34m\u001b[0m\u001b[0;34m\u001b[0m\u001b[0m\n\u001b[0m\u001b[1;32m    221\u001b[0m                 \u001b[0mscores\u001b[0m\u001b[0;34m[\u001b[0m\u001b[0mi\u001b[0m\u001b[0;34m]\u001b[0m \u001b[0;34m=\u001b[0m \u001b[0me\u001b[0m\u001b[0;34m\u001b[0m\u001b[0;34m\u001b[0m\u001b[0m\n\u001b[1;32m    222\u001b[0m                 \u001b[0;32mif\u001b[0m \u001b[0mi\u001b[0m \u001b[0;34m%\u001b[0m \u001b[0;36m10\u001b[0m \u001b[0;34m==\u001b[0m \u001b[0;36m0\u001b[0m\u001b[0;34m:\u001b[0m\u001b[0;34m\u001b[0m\u001b[0;34m\u001b[0m\u001b[0m\n",
      "\u001b[0;31mFloatingPointError\u001b[0m: NaN occurred in optimization. \nThe current approximation of RV `rates_log__`.ravel()[0] is NaN.\nThe current approximation of RV `rates_log__`.ravel()[1] is NaN.\nThe current approximation of RV `rates_log__`.ravel()[2] is NaN.\nThe current approximation of RV `rates_log__`.ravel()[3] is NaN.\nThe current approximation of RV `rates_log__`.ravel()[4] is NaN.\nThe current approximation of RV `rates_log__`.ravel()[5] is NaN.\nThe current approximation of RV `rates_log__`.ravel()[6] is NaN.\nThe current approximation of RV `rates_log__`.ravel()[7] is NaN.\nThe current approximation of RV `rates_log__`.ravel()[8] is NaN.\nThe current approximation of RV `rates_log__`.ravel()[9] is NaN.\nThe current approximation of RV `rates_log__`.ravel()[10] is NaN.\nThe current approximation of RV `rates_log__`.ravel()[11] is NaN.\nThe current approximation of RV `kappa_log__`.ravel()[0] is NaN.\nThe current approximation of RV `pi_stickbreaking__`.ravel()[0] is NaN.\nThe current approximation of RV `pi_stickbreaking__`.ravel()[1] is NaN.\nThe current approximation of RV `pi_stickbreaking__`.ravel()[2] is NaN.\nThe current approximation of RV `tree_tree_height_proportion__`.ravel()[0] is NaN.\nThe current approximation of RV `tree_tree_height_proportion__`.ravel()[1] is NaN.\nThe current approximation of RV `tree_tree_height_proportion__`.ravel()[2] is NaN.\nThe current approximation of RV `tree_tree_height_proportion__`.ravel()[3] is NaN.\nThe current approximation of RV `tree_tree_height_proportion__`.ravel()[4] is NaN.\nThe current approximation of RV `tree_tree_height_proportion__`.ravel()[5] is NaN.\nTry tracking this parameter: http://docs.pymc.io/notebooks/variational_api_quickstart.html#Tracking-parameters"
     ]
    }
   ],
   "source": [
    "import matplotlib.pyplot as plt\n",
    "\n",
    "with model:\n",
    "    fullrank = pm.ADVI() # Not full rank\n",
    "\n",
    "fr_tracker = pm.callbacks.Tracker(\n",
    "    mean=fullrank.approx.mean.eval,  # callable that returns mean\n",
    "    std=fullrank.approx.std.eval  # callable that returns cov\n",
    ")\n",
    "\n",
    "approx_dim = np.sum([param.shape.eval() for param in fullrank.approx.params])\n",
    "tolerance = 0.1*np.sqrt(approx_dim)\n",
    "convergence = pm.callbacks.CheckParametersConvergence(tolerance=tolerance, diff='relative')\n",
    "\n",
    "fit = fullrank.fit(n=100000, callbacks=[fr_tracker, convergence])\n",
    "\n",
    "fig = plt.figure(figsize=(16, 9))\n",
    "mu_ax = fig.add_subplot(221)\n",
    "std_ax = fig.add_subplot(222)\n",
    "hist_ax = fig.add_subplot(212)\n",
    "mu_ax.plot(fr_tracker['mean'])\n",
    "mu_ax.set_title('Mean track')\n",
    "cov_data = np.stack(fr_tracker['std'])\n",
    "std_ax.plot(cov_data.reshape((cov_data.shape[0], -1)))\n",
    "std_ax.set_title('Cov track')\n",
    "hist_ax.plot(fullrank.hist)\n",
    "hist_ax.set_title('Negative ELBO track');"
   ]
  },
  {
   "cell_type": "code",
   "execution_count": null,
   "metadata": {},
   "outputs": [],
   "source": [
    "import arviz as az\n",
    "\n",
    "trace = fit.sample(draws=1000)\n",
    "inf_data = az.from_pymc3(trace=trace)"
   ]
  },
  {
   "cell_type": "code",
   "execution_count": null,
   "metadata": {},
   "outputs": [],
   "source": [
    "az.plot_joint(inf_data, ['branch_lengths', 'rates'])"
   ]
  },
  {
   "cell_type": "code",
   "execution_count": null,
   "metadata": {},
   "outputs": [],
   "source": [
    "log_weight = fit.sized_symbolic_logp - fit.symbolic_logq\n",
    "log_weight"
   ]
  },
  {
   "cell_type": "code",
   "execution_count": null,
   "metadata": {},
   "outputs": [],
   "source": [
    "n_samples = 10000\n",
    "log_weights = fit.set_size_and_deterministic(log_weight, n_samples, False).eval()\n",
    "plt.hist(log_weights)"
   ]
  },
  {
   "cell_type": "code",
   "execution_count": null,
   "metadata": {},
   "outputs": [],
   "source": [
    "from scipy.special import logsumexp\n",
    "\n",
    "log_weights_norm = (log_weights - logsumexp(log_weights))[:, np.newaxis]\n",
    "\n",
    "plt.hist(log_weights_norm)"
   ]
  },
  {
   "cell_type": "code",
   "execution_count": null,
   "metadata": {},
   "outputs": [],
   "source": []
  },
  {
   "cell_type": "code",
   "execution_count": null,
   "metadata": {},
   "outputs": [],
   "source": [
    "pm.stats._psislw(log_weights_norm, n_samples)"
   ]
  }
 ],
 "metadata": {
  "kernelspec": {
   "display_name": "Python 3",
   "language": "python",
   "name": "python3"
  },
  "language_info": {
   "codemirror_mode": {
    "name": "ipython",
    "version": 3
   },
   "file_extension": ".py",
   "mimetype": "text/x-python",
   "name": "python",
   "nbconvert_exporter": "python",
   "pygments_lexer": "ipython3",
   "version": "3.6.4"
  }
 },
 "nbformat": 4,
 "nbformat_minor": 2
}
