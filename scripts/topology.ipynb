{
 "cells": [
  {
   "cell_type": "code",
   "execution_count": 74,
   "metadata": {},
   "outputs": [],
   "source": [
    "import sys\n",
    "sys.path += ['/Users/cswa648/git/phylo-hacking/pymc']\n",
    "import theano\n",
    "%matplotlib inline"
   ]
  },
  {
   "cell_type": "code",
   "execution_count": 79,
   "metadata": {},
   "outputs": [],
   "source": [
    "from xml.etree import ElementTree\n",
    "\n",
    "data_xml_filename = '../../data/ratites.SRD06.RLC.YULE.xml'\n",
    "xml_root = ElementTree.parse(data_xml_filename)"
   ]
  },
  {
   "cell_type": "code",
   "execution_count": 78,
   "metadata": {
    "scrolled": true
   },
   "outputs": [
    {
     "name": "stdout",
     "output_type": "stream",
     "text": [
      "                            ┌─ANDI\n",
      "                     ┌──────┤\n",
      "                     │      └─DIGI\n",
      "              ┌──────┤\n",
      "              │      │             ┌─CASS\n",
      "              │      │      ┌──────┤\n",
      "       ┌──────┤      └──────┤      └─EMU\n",
      "       │      │             └─KIWI\n",
      "───────┤      │\n",
      "       │      └─RHEA\n",
      "       └─OST\n"
     ]
    }
   ],
   "source": [
    "import newick\n",
    "\n",
    "newick_string = xml_root.find('.//newick').text\n",
    "tree = newick.loads(newick_string)[0]\n",
    "print(tree.ascii_art())"
   ]
  },
  {
   "cell_type": "code",
   "execution_count": 87,
   "metadata": {
    "collapsed": true
   },
   "outputs": [
    {
     "data": {
      "text/plain": [
       "('ANDI',\n",
       " 'ATGAACCTAACACTCTTCGACCAATTCTCCAGCCCTCAATTACTAGGCATCCCCCTCATCCTACTCTCCACGCTATTCCCCGCCCTTCTTCTACCATCCCCCAACAACCGCTGAATCACTAACCGACTTTCAGCCCTCCAACTATGACTCTTCCAACTTATCACCAAACAACTCATAATGCCACTAAACAAAGCAGGACACAACTGAGCTCTCATTCTCTCTTCGCTAATAACCTTCCTCCTACTAATTAACCTGCTAGGACTCCTTCCATACACATTCACCCCCACCACCCAACTATCCATAAACATGGCACTAGCCTTCCCCCTCTGACTAGCAACCCTTCTTACAGGACTACGAAACCAACCATCTATCTCCCTAGCCCATATTCTACCCGAAGGTACTCCCACACCCCTAATCCCAGCTTTAATCCTTATCGAAACAACAAGTCTACTTATCCGACCACTAGCCCTAGGAGTCCGTCTCACAGCAAACCTAACAGCCGGCCACCTCTTAATCCAACTTATCTCTACCGCAACCATAGCCCTCCTCTCCATTATACCCACCATCTCAATCCTAACAATACTTATCCTGCTCCTACTAACAATCCTAGAACTAGCAGTAGCCATAATCCAAGCCTACGTCTTCGTACTTCTCCTAAGCTTATATTTACAAGAAAATATCATGCCTCAACTAAACCCACACCCATGATTCTCCATCTTACTTATAGTATGATTCATCCTCCTACTTCTCATCCAGCCTAAATTTCTTTCCTTTATCTACACAAACCTCCCATCCAACAAGACCAAAATAGCCCCTATCCCCCCTACATGAACCTGACCATGAACCGTGACATTCATTACCCGATGACTCTTTTCAACCAACCATAAGGACATTGGCACATTATACCTAATCTTCGGCGCATGAGCAGGCATAGTAGGCACAGCCCTCAGCCTACTCATCCGGGCTGAGCTCGGCCAACCAGGGACCCTGCTAGGTGACGACCAAATCTACAATGTCATTGTCACCGCCCACGCTTTCGTGATAATTTTCTTCATAGTAATACCCGTAATAATTGGAGGGTTCGGAAACTGACTTGTACCTCTCATAATTGGGGCCCCCGATATAGCATTTCCACGAATAAACAACATAAGCTTCTGACTCCTACCTCCTTCCTTCCTCCTACTACTAGCATCCTCCACTATTGAAGCTGGAGCAGGAACGGGATGAACAGTTTACCCCCCACTAGCCGGAAACCTAGCCCACGCAGGTGCCTCCGTGGACCTTACCATCTTCTCACTCCACCTAGCCGGCGTATCCTCCATCCTAGGGGCTATCAACTTTATTACCACAGCAATTAACATAAAACCCCCAGCCCTTTCACAATACCAAACCCCACTATTCGTATGATCCGTACTAATCACTGCCATCCTCCTACTACTATCCCTCCCAGTACTTGCTGCCGGTATCACCATACTACTCACAGACCGAAACCTAAACACCACATTCTTCGACCCTGCTGGAGGAGGTGACCCTGTTCTATACCAACACCTCTTCTGATTCTTCGGACACCCTGAAGTCTACATTCTTATCCTTCCTGGTTTTGGAATAATCTCGCATGTAGTAGCCTACTATGCTGGCAAAAAAGAACCATTTGGCTACATAGGAATAGTCTGAGCTATACTATCAATTGGATTCCTGGGATTCATTGTATGGGCCCACCACATATTCACTGTCGGAATAGACGTGGACACCCGTGCTTACTTCACATCAGCCACCATGATCATCGCTATTCCAACCGGTATTAAAGTATTTAGCTGACTAGCAACTCTGCATGGGGGAACAATTAAATGAGACCCCCCTATTCTATGAGCCCTAGGCTTTATCTTCCTCTTTACCATCGGGGGTCTAACTGGCATTGTACTAGCAAACTCCTCACTAGATATCGCCCTACATGACACATACTACGTAGTAGCCCACTTCCACTACGTCCTCTCTATAGGTGCCGTATTTGCTATTCTAGCAGGCTTTACACACTGATTCCCCCTATTTACCGGATACACCCTCCACCCAACCTGAGCAAAAGCCCACTTTGGAGTAATATTTACAGGGGTTAACCTAACCTTCTTCCCCCAACATTTCCTAGGCCTTGCTGGTATACCACGACGATACTCAGATTATCCAGACGCTTACACCCTATGAAATACAATATCCTCTATTGGCTCCCTAATCTCTATAACAGCCGTAATCATACTTATATTTATTATCTGGGAGGCATTTTCCTCAAAACGAAAAGTGATACAATCTGAACTAACCCCTACTAACATTGAGTGAATCCACGGCTGCCCGCCTCCACATCACACCTTCGAAGAACCAGCATATGTTCAAGTTCAAGAAGTGGCTAACCCCTCCCAATTCGGATTTCAAGACGCATCATCCCCTATTATAGAAGAACTAGTCGAATTCCACGACCATGCTCTTATAGTCGCACTAGCGATCTGCAGCCTAGTCCTCTACCTTCTTGCCCATATACTAGTAGAAAAACTCTCCTCCAACACAGTAGATGCACAAGAAGTCGAACTAATCTGAACCATCCTACCTGCTATCGTCCTCATCTTACTTGCCCTACCATCTCTACAAATTCTCTATATGATAGACGAGATCGACGAACCAGACTTAACCCTAAAAGCTATTGGTCATCAATGATATTGAACCTACGAGTACACAGACTTCAAGGACCTTACCTTCGACTCATATATGATCCCAACCTCAGAACTACCATCAGGCTACTTCCGACTACTGGAAGTAGACCATCGAGTTGTTATTCCAATAGAATCCCCCATTCGAGTTATCATCACTGCTGGAGATGTTCTCCACTCATGAGCAGTTCCCACCCTAGGAGTAAAAACCGATGCAATCCCAGGACGACTAAACCAAACCTCATTTATCACTACCCGCCCAGGAATTTTCTACGGCCAATGCTCAGAAATCTGCGGGGCAAATCATAGCTACATGCCCATCGTAGTAGAATCGACTCCACTCACACATTTCGAGAACTGATCATCACTACTCTCCATGGCACACCAAGCACACTCCTATCACATAGTAGATCCAAGCCCATGGCCCATCTTCGGCGCTGCTGCCGCCCTACTTACAACCTCAGGATTGATCATATGGTTCCACTATAACTCCACCCACCTACTTACACTCGGCCTACTCTCAATACTATTAGTCATACTACAATGATGACGCGACATTGTACGAGAAAGCACCTTCCAAGGACACCACACCCCCACAGTCCAAAAAGGACTACGATACGGAATAATCCTCTTCATCACATCAGAAGCATTCTTCTTCTTAGGCTTCTTCTGGGCTTTCTTCCACTCAAGCCTAGCACCCACCCCCGAACTAGGCGGACTATGGCCCCCAACAGGAATTAAACCCCTCAACCCTCTAGAAGTCCCACTACTCAACACAGCAATCCTCCTAGCTTCAGGGGTTACTGTAACATGAGCCCACCACAGCATCACAGAAGGTAACCGAAAACAAGCAATCCAAGCCCTACTCCTGACTATCCTCCTCGGATTCTACTTTACCGCCCTGCAGGCTATAGAGTACCATGAAGCCCCCTTCTCAATCGCCGACGGAGTCTATGGCTCTACATTCTTTGTAGCTACAGGATTCCACGGACTACATGTAATCATCGGATCATCCTTCCTTACCATCTGCTTACTACGACTAATCAAATTCCACTTTACGTCTAACCATCATTTTGGCTTCGAAGCAGCAGCCTGATATTGACACTTCGTAGACGTCATCTGATTATTCCTCTATATAACCATCTACTGATGAGGATCCATGGCCCCCAACATTCGAAAATCCCACCCCCTACTTAAAATCATCAACAGCTCCCTAATTGACCTCCCCTCCCCATCAAACATCTCAGCCTGATGAAACTTCGGATCCCTCCTGGGGATCTGCCTAATCATCCAAATCCTAACAGGACTACTACTAGCCATACACTATACAGCTGACACTTCCTTAGCCTTTTCATCAGTGGCCCACACCTGCCGAAACGTACAGTACGGGTGATTAATCCGCAACCTCCATGCAAACGGAGCATCATTCTTCTTCATCTGCATTTACCTACATATCGGCCGAGGAATCTACTACGGCTCATACCTGTACAAAGAAACCTGAGGCACTGGCGTCGTCCTCCTACTAACACTCATAGCAACTGCCTTCGTAGGCTATGTCCTACCATGAGGACAAATATCATTCTGAGGCGCTACAGTCATCACAAACCTATTCTCAGCTGTTCCATACATCGGACAAACACTAGTAGAATGAGCCTGAGGCGGCTTTTCAGTAGACAACCCAACACTCACACGATTCTTCGCCCTACACTTCCTCCTCCCATTT---CTAATCGCCGGTATCACCCTCATCCACCTCACCTTCCTCCATGAATCCGGATCAAACAATCCCCTAGGAATTGTATCACACTGCGACAAAATCCCCTTCCACCCCTACTTTTCCACAAAAGACATCCTAGGATTCATGCTCATATTCATCCCCCTACTCACTCTGGCCTTCTTCTCACCCAACCTTCTAGGGGACCCAGAAAACTTCACACCAGCAAACCCCCTAACCACACCTCCACATATCAAACCAGAGTGATACTTCCTATTTGCATACGCTATCCTACGCTCCATCCCTAATAAACTAGGCGGTGTACTGGCACTAGCTGCCTCCGTACTAATCCTATTCCTAATCCCCCTCCTCCATAAATCAAAACAACGCTCAATAACATTCCGTCCCCTATCCCAACTACTATTCTGATTCCTCGTGGCTAACCTCCTCATCCTGACATGAGTAGGCAGCCAGCCAGTCGAACAACCTTTTATTATCATCGGCCAGACAGCCTCCTTCACCTATTTCCTCACCCTACTAATCCTATTCCCCATTACCGGGGCCCTAGAAAACAAAATCCTCCTCATTATATCCCTATCATACGCTGTACCCATCTTAGTTGCAGTAGCTTTCCTCACACTAGTTGAACGAAAAGTCCTAAGTTACATACAAGCCCGAAAGGGACCAAACATCGTTGGCCCATTCGGCTTACTTCAACCTGTCGCAGACGGAGTAAAACTCTTCATTAAGGAACCTATTCGCCCTACAACCTCCTCTCCCCTACTATTCATCATAACCCCCATCCTAGCCCTACTACTGGCTATCACCATCTGAATCCCACTACCCCTTCCATTCTCACTCACAGATTTAAATCTAGGACTACTCTTCCTCTTGTCCATATCAAGCCTAGCAGTATACTCCATCCTCTGATCCGGATGGGCCTCAAACTCAAAATACGCACTAATTGGGGCCCTACGAGCAGTCGCACAGACCATCTCATACGAAGTCACATTAGCAATCATTCTACTATCCGTCATTATACTAAGTGGCAACTATACCCTCAGTACACTCGCTACCACCCAAGAACCTCTCTACCTAATCTTCTCCTCCTGACCCCTAGCAATGATATGATACATTTCAACACTCGCAGAAACAAACCGAGCACCATTCGACCTGACAGAAGGTGAGTCAGAACTAGTCTCAGGATTTAACGTAGAGTATGCTGCCGGCCCATTCGCCCTATTCTTCCTAGCCGAATACGCTAACATCATGCTAATAAACATATTAACCACCATCCTATTTATCAACCCTAGCTCACTTAACCTTCCATCCGAACTACTCCCAATAGTCCTAGCTACAAAAACCCTACTACTATCCTCAGGATTCCTATGAGTACGAGCCTCATACCCACGATTCCGCTATGACCAGCTAATACACCTCCTCTGAAAAAACTTCCTGCCCCTTACGCTGGCACTATGCTTATGACATACAAGCCTACCAGTCTCCTACGCAGGCCTTCCTCCCATGAACCCACATGCTAAGCTAATCTCCCTCTTCAGCCTCCTCTTGGGCTCAACAATCACAATCTCGAGTAACCATTGAATTATCGCCTGAACCGGCCTAGAAATCAACACCCTAGCAATCATTCCACTTATCTCTAAATCCCATCACCCCCGAGCCGTAGAAGCCTCAATTAAATACTTTCTTGTCCAAGCCTCGGCCTCAGCTCTAGTCCTATTCTCTAGCATATCCAATGCATGAGCCACAGGCCAGTGAGACATCACACAACTAACCAACCCAACATCCTGCTTACTACTAACAACAGCAATCGCCATAAAACTAGGCCTAGCACCATTCCACTTCTGATTCCCAGAAGTCCTACAAGGTACATCCCTAACCACAGCCCTCGTACTCTCCACAGTAATAAAATTTCCCCCATTAACCATTCTCTTTATAGTATCCCCCTCCCTCAACCCTACAGTACTTACCGCCCTAGCCCTAACTTCAACTGCACTAGGAGGCTGAATAGGACTAAACCAGACACAAACCCGTAAAATCTTAGCCTTCTCATCCATCTCCCATCTAGGGTGAATAGCCGCAATTATCATCTACAACCCCAAACTAACCATAATAACCTTCTACCTTTATGTCCTGATAACAACATCAGTATTCTTATCCCTCAATACAACCAAAACCCTAAAGCTATCCACAATAATAACTTCCTGAACTAAAACTCCTGCCCTAAACACCGCTCTAATATTAACCCTCCTCTCCCTAGCAGGCTTACCCCCACTAACAGGATTCATACCTAAATGATTCATCATTCAAGAACTAACCAAACAAGAAATAACAACTACAGCCCTAATCATCTCAATACTATCACTCTTGGGCCTATTCTTCTACCTACGACTCGCATACCATGCAACAATCACACTACCACCAAACTCCGCTAACCACATAAAACAATGACACACTAACAAATCCCCCAAAACCCTAACTGCCATCCTCACCTCACTCTCCGCCATCCTCCTTCCCCTCTCACCTATAATCCTCACAACCCTTATAAACATAGTCACATTTATACTTCTACTCTCCTTCACACTATGCATCATCTTAACCACCATCAATTTCTGACTAGCCCAAATAAACCCAGACACAGAAAAACTATCTCCATACGAATGCGGCTTTGACCCCCTAGGATCCGCCCGACTCCCATTCTCAATCCGATTCTTCCTCAGTAGCCATCCTATTCCTTCTATTCGACCTGAAATTGCCCTCCTACTCCCTCTCCCCTGGGCAATTCAACTACCACAGCCCCTACTCACCCTACTATGAACTTCCATAATCCTCCTCCTCCTCACACTAGGCTTAGCTTATGAGTGAATACAAGGGGGCCTAGAATGAGCAGAAATGCTAAAAATCATCATCCCTACAATCATACTCCTACCTACAGCCCTCCTATCCCCACAAAACCTCATCTGAACCAATACAACCACCCATAGCCTCCTAATTGCCGCTATCAGCCTGCAATGACTCCACCCAACATATTTCCCCTATAAAAACCTCACCCAATGAACGGGCATCGACCAAATCTCAGCCCCATTACTAGTCCTATCTTGCTGATTACTCCCCCTCATACTTTTAGCAAGCCAAAATCACCTCCAACAAGAACCCCTCGTACGAAAACGAATCTTTATTACAACTCTAGTCACAATCCAACCCTTCATTATCCTAGCATTCTCATCTACAGAACTAACACTATTCTATATCTCATTTGAAGCAACCCTGATTCCAACACTAATCCTAATCACTCGATGAGGGAGCCAACCAGAACGGCTCAGTGCAGGCATCTATCTATTATTCTACACCCTTATTAGCTCTCTGCCACTCTTAATCACCCTACTCCAACTACACACACAAACCGGCACACTACATCTTCCCACCCTAGAGCTCATACACCCCCCGCTGACATTCTCATGAACTGGAATCATATCAGGACTAGCCCTCCTAATAACATTTATAGTAAAAGCCCCCCTATATGGACTCCACCTATGACTACCCAAAGCCCATGTAGAAGCCCCCATCGCAGGCTCAATACTTCTAGCCGCCCTCCTACTAAAACTAGGAGGCTATGGCATCATACGAGTAACCCTACTAATAGGCCCTCTCATGAACTATCTATGTTACCCATTCCTCGCCCTCGCCCTGTGAGGTGCATTGATAACTAGCTCAATCTGCTTACGTCAAACTGACCTAAAATCACTAATTGCATACTCATCAGTCAGTCACATAGGCCTAGTCATTGCTGCAGGTATAATCCAAACTGACTGATCATTCTCAGGAGCCATAATCCTTATAATCTCTCATGGCCTAACCTCTTCCATACTATTCTGCTTAGCCAATACAAACTACGAGCGTACACACAGCCGAATTCTCTTACTAGCCCGAGGCCTGCAACCCCTACTACCTCTAATAGGCACATGATGACTACTAGCTAGCCTGACAAACATAGCACTCCCACCGACAACCAACCTAATAGCAGAGCTAACAATCATAGTTGCACTTTTCAAATGATCCCCCCTAACAATTATACTAACCGGGCTTGCAACACTATTAACAGCCCTATACACTCTCTTCATACTCCTGACAACCCAACGAGGAGCACTCCCAACCCACATCAACTCAACCCCCAACTCAACCACACGAGAACATCTCCTAATAACCCTCCACATTCTCCCCATAATCCTCCTCATACTAAAACCAGAGCTCATCATGTCCACTCTACATCTAAGCTTCTACTCGGCCTTCACCCTAAGCGCCCTAGGCCTAGCCTTCCACCGAACCCACTTTATCTCTGCCCTACTATGTTTAGAGAGCATAATACTTTCTATGTACATCGCACTCTCAATCTGACCAATCCAAACCCAAACTCCCTCATTTACCCTAATCCCGCTGCTCATATTAACATTCTCCGCATGTGAAGCAGGTGCAGGACTAGCTATACTAGTAGCATCCACCCGAACTCACGGTTCAGACCACCTACACAACCTAAGTCTCCTACAATGCGAAATCCCATTACTCTTAAACACCTCCGTTATCCTCACACTAACAACTCTCCTATTACCCACCATACTCCCTCTTATCTCTCCCAAACTTCAAAATACACCCTCAACCATTACATCTGCCGTAAAGACAGCCTTCTTTATCAGTCTCATCCCAATATCCTCCTTCATCTATTCTGGAACAGAGACAATTACCTCCCACTGGTACTGAAACTTCTCAGCCAACTTTAAAATCCCCATTAGCTTTAAAATAGATCAGTACTCTATAATATTCCTCCCAATCGCCCTATTCGTAACCTGATCTATCCTCCAATTCGCAACCTGGTACATAGCCCAAGAGCCCCATATCACTAAATTCTTCACCTACCTCCTACTATTCTTAATCGCCATACTAATCCTAACAACCGCTAACAACATGTTCGTACTCTTCATCGGATGAGAAGGAGTTGGCATTATATCATTCCTACTCATTGGCTGATGACATGGACGAACAGATGCCAACACAGCTGCCCTCCAGGCCGTTATCTATAACCGAATTGGGGATGTAGGCCTCATCATCAGCATAGCCTGACTTGCCTCCACCTTAAACACATGAGAAATTCAACAACCCTCGTACGAAGGCCAAATCCCTATGCTACCCCTCCTAGGTCTCATTCTAGCTGCTACAGGAAAGTCAGCCCAATTCGGACTTCATCCATGACTTCCAGCAGCAATAGAAGGCCCCACCCCCGTCTCAGCCCTACTCCACTCAAGCACCATAGTAGTAGCAGGAATCTTCCTACTCATCCGCACCCACCCAATGCTAACTAACAATCAGACAGCCCTCACCATTTGCCTGTGCCTAGGCGCACTATCCACCTTATTTGCCGCCACATGTGCACTAACACAGAATGACATTAAAAAAATCATTGCCTTCTCCACATCAAGCCAACTAGGACTAATAATAGTTACTATCGGCCTTAACCTCCCACAACTAGCCTTCCTACATATCTCAACCCATGCATTCTTCAAAGCCATGTTATTCTTATGCTCTGGGTCAATCATCCACAACCTAGCTGGCGAACAGGACATTCGGAAAATGGGGGGATTACAAAATATCCTCCCTATAACAACCTCCTGCCTAACCATCGGCAACCTCGCCCTAATGGGGACCCCCTTCCTAGCAGGATTCTACTCCAAAGACCTTATCATCGAAAACCTCAACAACTCCTACCTAAACACCTGAGCCCTCCTACTAACCCTCCTAGCTACCTCCTTTACTGCCACCTACAGCCTCCGAATAACCCTAATAGTCCAAACAGGATTCAGCCGAATCCCCCCAATATCCCCAATCAACGAAAACACCCAAACCATCACTAATCCTATCATCCGTCTCGCACTAGGTAGCATCACGGCTGGCCTTCTCATCACATCTAACATCCTCCCAACCAAAACCTCCCCCATAACCATGCCCACAGTCACAAAAATAGCTGCCGTCTTAGTCACTATTATAGGTCTCCTACTCGCATTAGAATTGTCCAACATAACTCGCAACTTACTCCCCCCTAAACAAAACCCTCTCTCCAACTTCTCTGCCTCACTAGGCTACTTCAACCCTCTAGCACATCGACTCAGCTCAGTAAAACTTCTTAACATTGGACAGAAAATCGCTTCCCACCTTATTGACCTCTCCTGGTACAAAAAAATAGGACCAGAAGGATTAGCCAACCTACAACTCATAGCAGCCAAAACCTCTACCTCACTACATACCGGAATAATCAAAACCTACCTAGGATCATTCGCCCTGTCCATCATC')"
      ]
     },
     "execution_count": 87,
     "metadata": {},
     "output_type": "execute_result"
    }
   ],
   "source": [
    "sequence_dict = { seq_element.find('./taxon').attrib['idref']: list(seq_element.itertext())[-1].strip()\n",
    " for seq_element in xml_root.findall('.//sequence') }\n",
    "list(sequence_dict.items())[0]"
   ]
  },
  {
   "cell_type": "code",
   "execution_count": 94,
   "metadata": {},
   "outputs": [
    {
     "data": {
      "text/plain": [
       "array([['ANDI', 'DIGI'],\n",
       "       ['CASS', 'EMU'],\n",
       "       [None, 'KIWI'],\n",
       "       [None, None],\n",
       "       [None, 'RHEA'],\n",
       "       [None, 'OST']], dtype=object)"
      ]
     },
     "execution_count": 94,
     "metadata": {},
     "output_type": "execute_result"
    }
   ],
   "source": [
    "from importlib import reload\n",
    "import pylo.tree\n",
    "reload(pylo.tree)\n",
    "import pylo.topology\n",
    "reload(pylo.topology)\n",
    "from pylo.topology import TreeTopology\n",
    "\n",
    "topology = pylo.topology.TreeTopology(tree)\n",
    "topology.leaf_children"
   ]
  },
  {
   "cell_type": "code",
   "execution_count": 111,
   "metadata": {},
   "outputs": [
    {
     "data": {
      "text/plain": [
       "((6, 2, 922), dtype('int64'))"
      ]
     },
     "execution_count": 111,
     "metadata": {},
     "output_type": "execute_result"
    }
   ],
   "source": [
    "import numpy as np\n",
    "from pylo.transform import group_sequences, encode_sequences\n",
    "\n",
    "sequence_dict_encoded = encode_sequences(sequence_dict)\n",
    "pattern_dict, pattern_counts = group_sequences(sequence_dict_encoded)\n",
    "child_patterns = np.array(topology.build_sequence_table(pattern_dict))\n",
    "child_patterns.shape, child_patterns.dtype"
   ]
  },
  {
   "cell_type": "code",
   "execution_count": 112,
   "metadata": {},
   "outputs": [
    {
     "data": {
      "text/plain": [
       "((922,), dtype('int64'))"
      ]
     },
     "execution_count": 112,
     "metadata": {},
     "output_type": "execute_result"
    }
   ],
   "source": [
    "pattern_counts = np.array(pattern_counts)\n",
    "pattern_counts.shape, pattern_counts.dtype"
   ]
  },
  {
   "cell_type": "code",
   "execution_count": 116,
   "metadata": {},
   "outputs": [],
   "source": [
    "import theano.tensor as tt\n",
    "\n",
    "child_patterns_ = tt.as_tensor_variable(child_patterns)\n",
    "pattern_counts_ = tt.as_tensor_variable(pattern_counts)"
   ]
  },
  {
   "cell_type": "code",
   "execution_count": 119,
   "metadata": {},
   "outputs": [
    {
     "data": {
      "text/plain": [
       "array([[ True,  True],\n",
       "       [ True,  True],\n",
       "       [False,  True],\n",
       "       [False, False],\n",
       "       [False,  True],\n",
       "       [False,  True]])"
      ]
     },
     "execution_count": 119,
     "metadata": {},
     "output_type": "execute_result"
    }
   ],
   "source": [
    "topology.leaf_mask"
   ]
  },
  {
   "cell_type": "code",
   "execution_count": 127,
   "metadata": {},
   "outputs": [
    {
     "data": {
      "text/plain": [
       "TensorConstant{[[-1 -1]\n",
       " ..\n",
       " [ 4 -1]]}"
      ]
     },
     "execution_count": 127,
     "metadata": {},
     "output_type": "execute_result"
    }
   ],
   "source": [
    "tt.as_tensor_variable(topology.child_indices)"
   ]
  },
  {
   "cell_type": "code",
   "execution_count": 184,
   "metadata": {},
   "outputs": [
    {
     "data": {
      "text/latex": [
       "$$\n",
       "            \\begin{array}{rcl}\n",
       "            tree &\\sim & \\text{BirthDeathSamplingTree}(r=\\text{r}, a=\\text{a}, \\rho=\\text{rho})\\\\\\text{r} &\\sim & \\text{Exponential}(\\mathit{lam}=0.1)\\\\\\text{a} &\\sim & \\text{Beta}(\\mathit{alpha}=1.0,~\\mathit{beta}=1.0)\\\\\\text{rho} &\\sim & \\text{Beta}(\\mathit{alpha}=1.0,~\\mathit{beta}=1.0)\\\\\\text{branch_lengths} &\\sim & \\text{Deterministic}(\\text{tree},~\\text{Constant},~\\text{Constant},~\\text{Constant},~\\text{tree},~\\text{Constant},~\\text{Constant},~\\text{Constant},~\\text{Constant},~\\text{tree},~\\text{Constant})\\\\\\text{rates} &\\sim & \\text{Lognormal}(\\mathit{mu}=0,~\\mathit{tau}=1.0)\\\\\\text{distances} &\\sim & \\text{Deterministic}(\\text{rates_log__},~\\text{tree},~\\text{Constant},~\\text{Constant},~\\text{Constant},~\\text{tree},~\\text{Constant},~\\text{Constant},~\\text{Constant},~\\text{Constant},~\\text{tree},~\\text{Constant})\\\\\\text{kappa} &\\sim & \\text{Exponential}(\\mathit{lam}=0.1)\\\\pi &\\sim & \\text{Dirichlet}(\\mathit{a}=array)\n",
       "            \\end{array}\n",
       "            $$"
      ],
      "text/plain": [
       "<pymc3.model.Model at 0x1c18a9ab70>"
      ]
     },
     "execution_count": 184,
     "metadata": {},
     "output_type": "execute_result"
    }
   ],
   "source": [
    "import pymc3 as pm\n",
    "\n",
    "from pylo.tree import BirthDeathSamplingTree, TreeHeightProportionTransform\n",
    "from pylo.hky import HKYSubstitutionModel\n",
    "\n",
    "import pylo.pruning\n",
    "reload(pylo.pruning)\n",
    "\n",
    "from pylo.pruning import LeafSequences\n",
    "\n",
    "with pm.Model() as model:\n",
    "    r = pm.Exponential('r', lam=0.1)\n",
    "    a = pm.Beta('a', alpha=1.0, beta=1.0)\n",
    "    rho = pm.Beta('rho', alpha=1.0, beta=1.0)\n",
    "    \n",
    "    tree_heights = BirthDeathSamplingTree('tree', topology, r, a, rho)\n",
    "    branch_lengths = pm.Deterministic('branch_lengths', topology.get_child_branch_lengths(tree_heights))\n",
    "    rates = pm.Lognormal('rates', shape=(topology.get_internal_node_count(), 2))\n",
    "    \n",
    "    distances = pm.Deterministic('distances', rates*branch_lengths)\n",
    "    \n",
    "    kappa = pm.Exponential('kappa', lam=0.1)\n",
    "    pi = pm.Dirichlet('pi', a=np.ones(4))\n",
    "    \n",
    "    substitution_model = HKYSubstitutionModel(kappa, pi)\n",
    "    sequences = LeafSequences('sequences', topology, substitution_model, distances, child_patterns_, pattern_counts_)\n",
    "    \n",
    "model"
   ]
  },
  {
   "cell_type": "code",
   "execution_count": 156,
   "metadata": {},
   "outputs": [
    {
     "name": "stdout",
     "output_type": "stream",
     "text": [
      "r_log__ -1.0596601002984285\n",
      "a_logodds__ -1.3862943611198906\n",
      "rho_logodds__ -1.3862943611198906\n",
      "tree -21.995558354525762\n",
      "rates_log__ -11.027262398456068\n",
      "kappa_log__ -1.0596601002984285\n",
      "pi_stickbreaking__ -3.753417975251508\n"
     ]
    }
   ],
   "source": [
    "for RV in model.basic_RVs:\n",
    "    print(RV.name, RV.logp(model.test_point))"
   ]
  },
  {
   "cell_type": "code",
   "execution_count": 130,
   "metadata": {},
   "outputs": [
    {
     "name": "stderr",
     "output_type": "stream",
     "text": [
      "Auto-assigning NUTS sampler...\n",
      "Initializing NUTS using jitter+adapt_diag...\n",
      "INFO (theano.gof.compilelock): Refreshing lock /Users/cswa648/.theano/compiledir_Darwin-17.6.0-x86_64-i386-64bit-i386-3.6.5-64/lock_dir/lock\n",
      "Sequential sampling (1 chains in 1 job)\n",
      "NUTS: [pi, kappa, rates, tree, rho, a, r]\n",
      "  0%|          | 0/1000 [00:00<?, ?it/s]\n"
     ]
    },
    {
     "ename": "ValueError",
     "evalue": "Bad initial energy: nan. The model might be misspecified.",
     "output_type": "error",
     "traceback": [
      "\u001b[0;31m---------------------------------------------------------------------------\u001b[0m",
      "\u001b[0;31mValueError\u001b[0m                                Traceback (most recent call last)",
      "\u001b[0;32m<ipython-input-130-1c64cc78a539>\u001b[0m in \u001b[0;36m<module>\u001b[0;34m()\u001b[0m\n\u001b[1;32m      1\u001b[0m \u001b[0;32mwith\u001b[0m \u001b[0mmodel\u001b[0m\u001b[0;34m:\u001b[0m\u001b[0;34m\u001b[0m\u001b[0m\n\u001b[0;32m----> 2\u001b[0;31m     \u001b[0mtrace\u001b[0m \u001b[0;34m=\u001b[0m \u001b[0mpm\u001b[0m\u001b[0;34m.\u001b[0m\u001b[0msample\u001b[0m\u001b[0;34m(\u001b[0m\u001b[0mchains\u001b[0m\u001b[0;34m=\u001b[0m\u001b[0;36m1\u001b[0m\u001b[0;34m)\u001b[0m\u001b[0;34m\u001b[0m\u001b[0m\n\u001b[0m",
      "\u001b[0;32m~/envs/python36/lib/python3.6/site-packages/pymc3/sampling.py\u001b[0m in \u001b[0;36msample\u001b[0;34m(draws, step, init, n_init, start, trace, chain_idx, chains, cores, tune, nuts_kwargs, step_kwargs, progressbar, model, random_seed, live_plot, discard_tuned_samples, live_plot_kwargs, compute_convergence_checks, use_mmap, **kwargs)\u001b[0m\n\u001b[1;32m    467\u001b[0m                 \u001b[0m_log\u001b[0m\u001b[0;34m.\u001b[0m\u001b[0minfo\u001b[0m\u001b[0;34m(\u001b[0m\u001b[0;34m'Sequential sampling ({} chains in 1 job)'\u001b[0m\u001b[0;34m.\u001b[0m\u001b[0mformat\u001b[0m\u001b[0;34m(\u001b[0m\u001b[0mchains\u001b[0m\u001b[0;34m)\u001b[0m\u001b[0;34m)\u001b[0m\u001b[0;34m\u001b[0m\u001b[0m\n\u001b[1;32m    468\u001b[0m                 \u001b[0m_print_step_hierarchy\u001b[0m\u001b[0;34m(\u001b[0m\u001b[0mstep\u001b[0m\u001b[0;34m)\u001b[0m\u001b[0;34m\u001b[0m\u001b[0m\n\u001b[0;32m--> 469\u001b[0;31m                 \u001b[0mtrace\u001b[0m \u001b[0;34m=\u001b[0m \u001b[0m_sample_many\u001b[0m\u001b[0;34m(\u001b[0m\u001b[0;34m**\u001b[0m\u001b[0msample_args\u001b[0m\u001b[0;34m)\u001b[0m\u001b[0;34m\u001b[0m\u001b[0m\n\u001b[0m\u001b[1;32m    470\u001b[0m \u001b[0;34m\u001b[0m\u001b[0m\n\u001b[1;32m    471\u001b[0m         \u001b[0mdiscard\u001b[0m \u001b[0;34m=\u001b[0m \u001b[0mtune\u001b[0m \u001b[0;32mif\u001b[0m \u001b[0mdiscard_tuned_samples\u001b[0m \u001b[0;32melse\u001b[0m \u001b[0;36m0\u001b[0m\u001b[0;34m\u001b[0m\u001b[0m\n",
      "\u001b[0;32m~/envs/python36/lib/python3.6/site-packages/pymc3/sampling.py\u001b[0m in \u001b[0;36m_sample_many\u001b[0;34m(draws, chain, chains, start, random_seed, step, **kwargs)\u001b[0m\n\u001b[1;32m    513\u001b[0m     \u001b[0;32mfor\u001b[0m \u001b[0mi\u001b[0m \u001b[0;32min\u001b[0m \u001b[0mrange\u001b[0m\u001b[0;34m(\u001b[0m\u001b[0mchains\u001b[0m\u001b[0;34m)\u001b[0m\u001b[0;34m:\u001b[0m\u001b[0;34m\u001b[0m\u001b[0m\n\u001b[1;32m    514\u001b[0m         trace = _sample(draws=draws, chain=chain + i, start=start[i],\n\u001b[0;32m--> 515\u001b[0;31m                         step=step, random_seed=random_seed[i], **kwargs)\n\u001b[0m\u001b[1;32m    516\u001b[0m         \u001b[0;32mif\u001b[0m \u001b[0mtrace\u001b[0m \u001b[0;32mis\u001b[0m \u001b[0;32mNone\u001b[0m\u001b[0;34m:\u001b[0m\u001b[0;34m\u001b[0m\u001b[0m\n\u001b[1;32m    517\u001b[0m             \u001b[0;32mif\u001b[0m \u001b[0mlen\u001b[0m\u001b[0;34m(\u001b[0m\u001b[0mtraces\u001b[0m\u001b[0;34m)\u001b[0m \u001b[0;34m==\u001b[0m \u001b[0;36m0\u001b[0m\u001b[0;34m:\u001b[0m\u001b[0;34m\u001b[0m\u001b[0m\n",
      "\u001b[0;32m~/envs/python36/lib/python3.6/site-packages/pymc3/sampling.py\u001b[0m in \u001b[0;36m_sample\u001b[0;34m(chain, progressbar, random_seed, start, draws, step, trace, tune, model, live_plot, live_plot_kwargs, **kwargs)\u001b[0m\n\u001b[1;32m    557\u001b[0m     \u001b[0;32mtry\u001b[0m\u001b[0;34m:\u001b[0m\u001b[0;34m\u001b[0m\u001b[0m\n\u001b[1;32m    558\u001b[0m         \u001b[0mstrace\u001b[0m \u001b[0;34m=\u001b[0m \u001b[0;32mNone\u001b[0m\u001b[0;34m\u001b[0m\u001b[0m\n\u001b[0;32m--> 559\u001b[0;31m         \u001b[0;32mfor\u001b[0m \u001b[0mit\u001b[0m\u001b[0;34m,\u001b[0m \u001b[0mstrace\u001b[0m \u001b[0;32min\u001b[0m \u001b[0menumerate\u001b[0m\u001b[0;34m(\u001b[0m\u001b[0msampling\u001b[0m\u001b[0;34m)\u001b[0m\u001b[0;34m:\u001b[0m\u001b[0;34m\u001b[0m\u001b[0m\n\u001b[0m\u001b[1;32m    560\u001b[0m             \u001b[0;32mif\u001b[0m \u001b[0mlive_plot\u001b[0m\u001b[0;34m:\u001b[0m\u001b[0;34m\u001b[0m\u001b[0m\n\u001b[1;32m    561\u001b[0m                 \u001b[0;32mif\u001b[0m \u001b[0mlive_plot_kwargs\u001b[0m \u001b[0;32mis\u001b[0m \u001b[0;32mNone\u001b[0m\u001b[0;34m:\u001b[0m\u001b[0;34m\u001b[0m\u001b[0m\n",
      "\u001b[0;32m~/envs/python36/lib/python3.6/site-packages/tqdm/_tqdm.py\u001b[0m in \u001b[0;36m__iter__\u001b[0;34m(self)\u001b[0m\n\u001b[1;32m    928\u001b[0m \"\"\", fp_write=getattr(self.fp, 'write', sys.stderr.write))\n\u001b[1;32m    929\u001b[0m \u001b[0;34m\u001b[0m\u001b[0m\n\u001b[0;32m--> 930\u001b[0;31m             \u001b[0;32mfor\u001b[0m \u001b[0mobj\u001b[0m \u001b[0;32min\u001b[0m \u001b[0miterable\u001b[0m\u001b[0;34m:\u001b[0m\u001b[0;34m\u001b[0m\u001b[0m\n\u001b[0m\u001b[1;32m    931\u001b[0m                 \u001b[0;32myield\u001b[0m \u001b[0mobj\u001b[0m\u001b[0;34m\u001b[0m\u001b[0m\n\u001b[1;32m    932\u001b[0m                 \u001b[0;31m# Update and possibly print the progressbar.\u001b[0m\u001b[0;34m\u001b[0m\u001b[0;34m\u001b[0m\u001b[0m\n",
      "\u001b[0;32m~/envs/python36/lib/python3.6/site-packages/pymc3/sampling.py\u001b[0m in \u001b[0;36m_iter_sample\u001b[0;34m(draws, step, start, trace, chain, tune, model, random_seed)\u001b[0m\n\u001b[1;32m    653\u001b[0m                 \u001b[0mstep\u001b[0m \u001b[0;34m=\u001b[0m \u001b[0mstop_tuning\u001b[0m\u001b[0;34m(\u001b[0m\u001b[0mstep\u001b[0m\u001b[0;34m)\u001b[0m\u001b[0;34m\u001b[0m\u001b[0m\n\u001b[1;32m    654\u001b[0m             \u001b[0;32mif\u001b[0m \u001b[0mstep\u001b[0m\u001b[0;34m.\u001b[0m\u001b[0mgenerates_stats\u001b[0m\u001b[0;34m:\u001b[0m\u001b[0;34m\u001b[0m\u001b[0m\n\u001b[0;32m--> 655\u001b[0;31m                 \u001b[0mpoint\u001b[0m\u001b[0;34m,\u001b[0m \u001b[0mstates\u001b[0m \u001b[0;34m=\u001b[0m \u001b[0mstep\u001b[0m\u001b[0;34m.\u001b[0m\u001b[0mstep\u001b[0m\u001b[0;34m(\u001b[0m\u001b[0mpoint\u001b[0m\u001b[0;34m)\u001b[0m\u001b[0;34m\u001b[0m\u001b[0m\n\u001b[0m\u001b[1;32m    656\u001b[0m                 \u001b[0;32mif\u001b[0m \u001b[0mstrace\u001b[0m\u001b[0;34m.\u001b[0m\u001b[0msupports_sampler_stats\u001b[0m\u001b[0;34m:\u001b[0m\u001b[0;34m\u001b[0m\u001b[0m\n\u001b[1;32m    657\u001b[0m                     \u001b[0mstrace\u001b[0m\u001b[0;34m.\u001b[0m\u001b[0mrecord\u001b[0m\u001b[0;34m(\u001b[0m\u001b[0mpoint\u001b[0m\u001b[0;34m,\u001b[0m \u001b[0mstates\u001b[0m\u001b[0;34m)\u001b[0m\u001b[0;34m\u001b[0m\u001b[0m\n",
      "\u001b[0;32m~/envs/python36/lib/python3.6/site-packages/pymc3/step_methods/arraystep.py\u001b[0m in \u001b[0;36mstep\u001b[0;34m(self, point)\u001b[0m\n\u001b[1;32m    245\u001b[0m \u001b[0;34m\u001b[0m\u001b[0m\n\u001b[1;32m    246\u001b[0m         \u001b[0;32mif\u001b[0m \u001b[0mself\u001b[0m\u001b[0;34m.\u001b[0m\u001b[0mgenerates_stats\u001b[0m\u001b[0;34m:\u001b[0m\u001b[0;34m\u001b[0m\u001b[0m\n\u001b[0;32m--> 247\u001b[0;31m             \u001b[0mapoint\u001b[0m\u001b[0;34m,\u001b[0m \u001b[0mstats\u001b[0m \u001b[0;34m=\u001b[0m \u001b[0mself\u001b[0m\u001b[0;34m.\u001b[0m\u001b[0mastep\u001b[0m\u001b[0;34m(\u001b[0m\u001b[0marray\u001b[0m\u001b[0;34m)\u001b[0m\u001b[0;34m\u001b[0m\u001b[0m\n\u001b[0m\u001b[1;32m    248\u001b[0m             \u001b[0mpoint\u001b[0m \u001b[0;34m=\u001b[0m \u001b[0mself\u001b[0m\u001b[0;34m.\u001b[0m\u001b[0m_logp_dlogp_func\u001b[0m\u001b[0;34m.\u001b[0m\u001b[0marray_to_full_dict\u001b[0m\u001b[0;34m(\u001b[0m\u001b[0mapoint\u001b[0m\u001b[0;34m)\u001b[0m\u001b[0;34m\u001b[0m\u001b[0m\n\u001b[1;32m    249\u001b[0m             \u001b[0;32mreturn\u001b[0m \u001b[0mpoint\u001b[0m\u001b[0;34m,\u001b[0m \u001b[0mstats\u001b[0m\u001b[0;34m\u001b[0m\u001b[0m\n",
      "\u001b[0;32m~/envs/python36/lib/python3.6/site-packages/pymc3/step_methods/hmc/base_hmc.py\u001b[0m in \u001b[0;36mastep\u001b[0;34m(self, q0)\u001b[0m\n\u001b[1;32m    115\u001b[0m             \u001b[0mself\u001b[0m\u001b[0;34m.\u001b[0m\u001b[0mpotential\u001b[0m\u001b[0;34m.\u001b[0m\u001b[0mraise_ok\u001b[0m\u001b[0;34m(\u001b[0m\u001b[0mself\u001b[0m\u001b[0;34m.\u001b[0m\u001b[0m_logp_dlogp_func\u001b[0m\u001b[0;34m.\u001b[0m\u001b[0m_ordering\u001b[0m\u001b[0;34m.\u001b[0m\u001b[0mvmap\u001b[0m\u001b[0;34m)\u001b[0m\u001b[0;34m\u001b[0m\u001b[0m\n\u001b[1;32m    116\u001b[0m             raise ValueError('Bad initial energy: %s. The model '\n\u001b[0;32m--> 117\u001b[0;31m                              'might be misspecified.' % start.energy)\n\u001b[0m\u001b[1;32m    118\u001b[0m \u001b[0;34m\u001b[0m\u001b[0m\n\u001b[1;32m    119\u001b[0m         \u001b[0madapt_step\u001b[0m \u001b[0;34m=\u001b[0m \u001b[0mself\u001b[0m\u001b[0;34m.\u001b[0m\u001b[0mtune\u001b[0m \u001b[0;32mand\u001b[0m \u001b[0mself\u001b[0m\u001b[0;34m.\u001b[0m\u001b[0madapt_step_size\u001b[0m\u001b[0;34m\u001b[0m\u001b[0m\n",
      "\u001b[0;31mValueError\u001b[0m: Bad initial energy: nan. The model might be misspecified."
     ]
    }
   ],
   "source": [
    "with model:\n",
    "    trace = pm.sample(chains=1)"
   ]
  }
 ],
 "metadata": {
  "kernelspec": {
   "display_name": "Python 3",
   "language": "python",
   "name": "python3"
  },
  "language_info": {
   "codemirror_mode": {
    "name": "ipython",
    "version": 3
   },
   "file_extension": ".py",
   "mimetype": "text/x-python",
   "name": "python",
   "nbconvert_exporter": "python",
   "pygments_lexer": "ipython3",
   "version": "3.6.5"
  }
 },
 "nbformat": 4,
 "nbformat_minor": 2
}
