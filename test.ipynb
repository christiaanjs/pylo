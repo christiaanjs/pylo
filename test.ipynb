{
 "cells": [
  {
   "cell_type": "code",
   "execution_count": 17,
   "metadata": {},
   "outputs": [],
   "source": [
    "import numpy as np\n",
    "\n",
    "import hky\n",
    "from importlib import reload\n",
    "reload(hky)\n",
    "\n",
    "from hky import *"
   ]
  },
  {
   "cell_type": "code",
   "execution_count": 19,
   "metadata": {},
   "outputs": [
    {
     "data": {
      "text/plain": [
       "array([[1.13657466, 1.13409591, 0.86466472, 0.86466472],\n",
       "       [1.13409591, 1.13657466, 0.86466472, 0.86466472],\n",
       "       [0.86466472, 0.86466472, 1.13657466, 1.13409591],\n",
       "       [0.86466472, 0.86466472, 1.13409591, 1.13657466]])"
      ]
     },
     "execution_count": 19,
     "metadata": {},
     "output_type": "execute_result"
    }
   ],
   "source": [
    "Pt = hky_transition_probs(1.0, 2.0, np.ones(4), 1)\n",
    "Pt.eval()"
   ]
  },
  {
   "cell_type": "code",
   "execution_count": 22,
   "metadata": {},
   "outputs": [
    {
     "data": {
      "text/plain": [
       "array([0.86466472, 0.86466472])"
      ]
     },
     "execution_count": 22,
     "metadata": {},
     "output_type": "execute_result"
    }
   ],
   "source": [
    "x, y = np.array([1, 0]), np.array([2, 2])\n",
    "Pt[x, y].eval()"
   ]
  }
 ],
 "metadata": {
  "kernelspec": {
   "display_name": "Python 3",
   "language": "python",
   "name": "python3"
  },
  "language_info": {
   "codemirror_mode": {
    "name": "ipython",
    "version": 3
   },
   "file_extension": ".py",
   "mimetype": "text/x-python",
   "name": "python",
   "nbconvert_exporter": "python",
   "pygments_lexer": "ipython3",
   "version": "3.6.4"
  }
 },
 "nbformat": 4,
 "nbformat_minor": 2
}
