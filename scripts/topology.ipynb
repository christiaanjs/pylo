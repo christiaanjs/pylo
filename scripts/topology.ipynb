{
 "cells": [
  {
   "cell_type": "code",
   "execution_count": 2,
   "metadata": {},
   "outputs": [
    {
     "name": "stdout",
     "output_type": "stream",
     "text": [
      "                            ┌─ANDI\n",
      "                     ┌──────┤\n",
      "                     │      └─DIGI\n",
      "              ┌──────┤\n",
      "              │      │             ┌─CASS\n",
      "              │      │      ┌──────┤\n",
      "       ┌──────┤      └──────┤      └─EMU\n",
      "       │      │             └─KIWI\n",
      "───────┤      │\n",
      "       │      └─RHEA\n",
      "       └─OST\n"
     ]
    }
   ],
   "source": [
    "import sys\n",
    "sys.path += ['/Users/cswa648/git/phylo-hacking/pymc']\n",
    "import theano\n",
    "import newick\n",
    "from xml.etree import ElementTree\n",
    "\n",
    "%matplotlib inline\n",
    "\n",
    "data_xml_filename = '../../data/ratites.SRD06.RLC.YULE.xml'\n",
    "xml_root = ElementTree.parse(data_xml_filename)\n",
    "newick_string = xml_root.find('.//newick').text\n",
    "tree = newick.loads(newick_string)[0]\n",
    "print(tree.ascii_art())"
   ]
  },
  {
   "cell_type": "code",
   "execution_count": 27,
   "metadata": {},
   "outputs": [],
   "source": [
    "sequence_dict = { seq_element.find('./taxon').attrib['idref']: list(seq_element.itertext())[-1].strip()\n",
    " for seq_element in xml_root.findall('.//sequence') }\n",
    "\n",
    "from importlib import reload\n",
    "import pylo.topology\n",
    "reload(pylo.topology)\n",
    "\n",
    "from pylo.topology import TreeTopology\n",
    "topology = TreeTopology(tree)\n",
    "\n",
    "import numpy as np\n",
    "from pylo.transform import group_sequences, encode_sequences\n",
    "sequence_dict_encoded = encode_sequences(sequence_dict)\n",
    "pattern_dict, pattern_counts = group_sequences(sequence_dict_encoded)\n",
    "child_patterns = np.array(topology.build_sequence_table(pattern_dict))\n",
    "pattern_counts = np.array(pattern_counts)\n",
    "\n",
    "import theano.tensor as tt\n",
    "\n",
    "child_patterns_ = tt.as_tensor_variable(child_patterns)\n",
    "pattern_counts_ = tt.as_tensor_variable(pattern_counts)"
   ]
  },
  {
   "cell_type": "code",
   "execution_count": 34,
   "metadata": {},
   "outputs": [
    {
     "data": {
      "text/latex": [
       "$$\n",
       "            \\begin{array}{rcl}\n",
       "            \\text{population_size} &\\sim & \\text{Gamma}(\\mathit{alpha}=2.0,~\\mathit{beta}=0.1)\\\\\\text{branch_lengths} &\\sim & \\text{Deterministic}(\\text{Constant},~\\text{Constant},~\\text{Constant},~\\text{Constant},~\\text{Constant},~\\text{Constant},~\\text{Constant},~\\text{Constant},~\\text{Constant},~\\text{Constant},~\\text{Constant},~\\text{Constant},~\\text{Constant},~\\text{tree_tree_height_proportion__},~\\text{Constant},~\\text{Constant},~\\text{Constant},~\\text{Constant},~\\text{Constant},~\\text{Constant},~\\text{Constant},~\\text{Constant},~\\text{Constant},~\\text{Constant},~\\text{Constant},~\\text{Constant},~\\text{Constant},~\\text{Constant},~\\text{Constant},~\\text{Constant},~\\text{Constant},~\\text{Constant},~\\text{Constant},~\\text{Constant},~\\text{Constant},~\\text{Constant},~\\text{tree_tree_height_proportion__},~\\text{Constant},~\\text{Constant},~\\text{Constant},~\\text{Constant},~\\text{Constant},~\\text{Constant},~\\text{Constant},~\\text{Constant},~\\text{Constant},~\\text{Constant},~\\text{Constant},~\\text{Constant},~\\text{Constant},~\\text{Constant},~\\text{Constant},~\\text{Constant},~\\text{Constant},~\\text{Constant},~\\text{Constant},~\\text{Constant},~\\text{tree_tree_height_proportion__},~\\text{Constant},~\\text{Constant},~\\text{Constant},~\\text{Constant},~\\text{Constant},~\\text{Constant},~\\text{Constant},~\\text{Constant},~\\text{Constant},~\\text{Constant},~\\text{Constant},~\\text{Constant},~\\text{Constant},~\\text{Constant},~\\text{Constant},~\\text{Constant},~\\text{Constant},~\\text{Constant},~\\text{Constant},~\\text{Constant},~\\text{tree_tree_height_proportion__},~\\text{Constant},~\\text{Constant},~\\text{Constant},~\\text{Constant},~\\text{Constant},~\\text{Constant},~\\text{Constant},~\\text{tree_tree_height_proportion__},~\\text{Constant},~\\text{Constant},~\\text{Constant},~\\text{Constant},~\\text{Constant},~\\text{Constant},~\\text{Constant},~\\text{Constant},~\\text{Constant},~\\text{Constant},~\\text{Constant},~\\text{Constant},~\\text{Constant},~\\text{Constant},~\\text{Constant},~\\text{Constant},~\\text{Constant},~\\text{tree_tree_height_proportion__},~\\text{Constant},~\\text{Constant},~\\text{Constant},~\\text{Constant},~\\text{Constant},~\\text{Constant},~\\text{Constant},~\\text{Constant},~\\text{Constant},~\\text{Constant},~\\text{Constant},~\\text{Constant},~\\text{Constant},~\\text{Constant},~\\text{Constant},~\\text{Constant},~\\text{Constant},~\\text{Constant},~\\text{tree_tree_height_proportion__},~\\text{Constant},~\\text{Constant},~\\text{Constant},~\\text{Constant},~\\text{Constant},~\\text{Constant},~\\text{Constant},~\\text{tree_tree_height_proportion__},~\\text{Constant},~\\text{Constant},~\\text{Constant},~\\text{Constant},~\\text{Constant},~\\text{Constant},~\\text{tree_tree_height_proportion__},~\\text{Constant},~\\text{Constant},~\\text{Constant},~\\text{Constant},~\\text{Constant},~\\text{Constant},~\\text{tree_tree_height_proportion__},~\\text{Constant},~\\text{Constant},~\\text{Constant},~\\text{Constant},~\\text{Constant},~\\text{tree_tree_height_proportion__},~\\text{Constant},~\\text{Constant},~\\text{Constant},~\\text{Constant},~\\text{Constant},~\\text{Constant},~\\text{Constant},~\\text{Constant},~\\text{Constant},~\\text{Constant},~\\text{Constant},~\\text{Constant},~\\text{Constant},~\\text{Constant},~\\text{Constant},~\\text{Constant},~\\text{Constant},~\\text{Constant},~\\text{Constant},~\\text{Constant},~\\text{tree_tree_height_proportion__},~\\text{Constant},~\\text{Constant},~\\text{Constant},~\\text{Constant},~\\text{Constant},~\\text{Constant},~\\text{Constant},~\\text{Constant},~\\text{Constant},~\\text{Constant},~\\text{Constant},~\\text{Constant},~\\text{Constant},~\\text{Constant},~\\text{Constant},~\\text{Constant},~\\text{Constant},~\\text{Constant},~\\text{Constant},~\\text{Constant},~\\text{Constant},~\\text{Constant},~\\text{tree_tree_height_proportion__},~\\text{Constant},~\\text{Constant},~\\text{Constant},~\\text{Constant},~\\text{Constant},~\\text{Constant},~\\text{Constant},~\\text{Constant},~\\text{Constant},~\\text{Constant},~\\text{Constant},~\\text{Constant},~\\text{Constant},~\\text{Constant},~\\text{Constant},~\\text{Constant},~\\text{Constant},~\\text{Constant},~\\text{Constant},~\\text{Constant},~\\text{tree_tree_height_proportion__},~\\text{Constant},~\\text{Constant},~\\text{Constant},~\\text{Constant},~\\text{Constant},~\\text{Constant},~\\text{Constant},~\\text{Constant},~\\text{Constant},~\\text{Constant},~\\text{Constant},~\\text{Constant},~\\text{Constant},~\\text{Constant},~\\text{Constant},~\\text{Constant},~\\text{Constant},~\\text{Constant},~\\text{Constant},~\\text{Constant},~\\text{tree_tree_height_proportion__},~\\text{Constant},~\\text{Constant},~\\text{Constant},~\\text{Constant},~\\text{Constant},~\\text{Constant},~\\text{Constant},~\\text{tree_tree_height_proportion__},~\\text{Constant},~\\text{Constant},~\\text{Constant},~\\text{Constant},~\\text{Constant},~\\text{Constant},~\\text{Constant},~\\text{Constant},~\\text{Constant},~\\text{Constant},~\\text{Constant},~\\text{Constant},~\\text{Constant},~\\text{Constant},~\\text{Constant},~\\text{Constant},~\\text{Constant},~\\text{tree_tree_height_proportion__},~\\text{Constant},~\\text{Constant},~\\text{Constant},~\\text{Constant},~\\text{Constant},~\\text{Constant},~\\text{Constant},~\\text{Constant},~\\text{Constant},~\\text{Constant},~\\text{Constant},~\\text{Constant},~\\text{Constant},~\\text{Constant},~\\text{Constant},~\\text{Constant},~\\text{Constant},~\\text{Constant},~\\text{tree_tree_height_proportion__},~\\text{Constant},~\\text{Constant},~\\text{Constant},~\\text{Constant},~\\text{Constant},~\\text{Constant},~\\text{Constant},~\\text{tree_tree_height_proportion__},~\\text{Constant},~\\text{Constant},~\\text{Constant},~\\text{Constant},~\\text{Constant},~\\text{Constant},~\\text{tree_tree_height_proportion__},~\\text{Constant},~\\text{Constant},~\\text{Constant},~\\text{Constant},~\\text{Constant},~\\text{Constant},~\\text{tree_tree_height_proportion__},~\\text{Constant},~\\text{Constant},~\\text{Constant},~\\text{Constant},~\\text{Constant},~\\text{tree_tree_height_proportion__},~\\text{Constant},~\\text{Constant},~\\text{Constant},~\\text{Constant},~\\text{Constant},~\\text{Constant},~\\text{Constant},~\\text{Constant},~\\text{Constant},~\\text{Constant},~\\text{Constant},~\\text{Constant},~\\text{Constant},~\\text{Constant},~\\text{Constant},~\\text{Constant},~\\text{Constant},~\\text{Constant},~\\text{Constant},~\\text{Constant},~\\text{Constant},~\\text{Constant},~\\text{Constant},~\\text{Constant},~\\text{tree_tree_height_proportion__},~\\text{Constant},~\\text{Constant},~\\text{Constant},~\\text{Constant},~\\text{Constant},~\\text{Constant},~\\text{Constant},~\\text{Constant},~\\text{Constant},~\\text{Constant},~\\text{Constant},~\\text{Constant},~\\text{Constant},~\\text{Constant},~\\text{Constant},~\\text{Constant},~\\text{Constant},~\\text{Constant},~\\text{Constant},~\\text{Constant},~\\text{Constant},~\\text{Constant},~\\text{tree_tree_height_proportion__},~\\text{Constant},~\\text{Constant},~\\text{Constant},~\\text{Constant},~\\text{Constant},~\\text{Constant},~\\text{Constant},~\\text{Constant},~\\text{Constant},~\\text{Constant},~\\text{Constant},~\\text{Constant},~\\text{Constant},~\\text{Constant},~\\text{Constant},~\\text{Constant},~\\text{Constant},~\\text{Constant},~\\text{Constant},~\\text{Constant},~\\text{tree_tree_height_proportion__},~\\text{Constant},~\\text{Constant},~\\text{Constant},~\\text{Constant},~\\text{Constant},~\\text{Constant},~\\text{Constant},~\\text{Constant},~\\text{Constant},~\\text{Constant},~\\text{Constant},~\\text{Constant},~\\text{Constant},~\\text{Constant},~\\text{Constant},~\\text{Constant},~\\text{Constant},~\\text{Constant},~\\text{Constant},~\\text{Constant},~\\text{tree_tree_height_proportion__},~\\text{Constant},~\\text{Constant},~\\text{Constant},~\\text{Constant},~\\text{Constant},~\\text{Constant},~\\text{Constant},~\\text{tree_tree_height_proportion__},~\\text{Constant},~\\text{Constant},~\\text{Constant},~\\text{Constant},~\\text{Constant},~\\text{Constant},~\\text{Constant},~\\text{Constant},~\\text{Constant},~\\text{Constant},~\\text{Constant},~\\text{Constant},~\\text{Constant},~\\text{Constant},~\\text{Constant},~\\text{Constant},~\\text{Constant},~\\text{tree_tree_height_proportion__},~\\text{Constant},~\\text{Constant},~\\text{Constant},~\\text{Constant},~\\text{Constant},~\\text{Constant},~\\text{Constant},~\\text{Constant},~\\text{Constant},~\\text{Constant},~\\text{Constant},~\\text{Constant},~\\text{Constant},~\\text{Constant},~\\text{Constant},~\\text{Constant},~\\text{Constant},~\\text{Constant},~\\text{tree_tree_height_proportion__},~\\text{Constant},~\\text{Constant},~\\text{Constant},~\\text{Constant},~\\text{Constant},~\\text{Constant},~\\text{Constant},~\\text{tree_tree_height_proportion__},~\\text{Constant},~\\text{Constant},~\\text{Constant},~\\text{Constant},~\\text{Constant},~\\text{Constant},~\\text{tree_tree_height_proportion__},~\\text{Constant},~\\text{Constant},~\\text{Constant},~\\text{Constant},~\\text{Constant},~\\text{Constant},~\\text{tree_tree_height_proportion__},~\\text{Constant},~\\text{Constant},~\\text{Constant},~\\text{Constant},~\\text{Constant},~\\text{tree_tree_height_proportion__},~\\text{Constant},~\\text{Constant},~\\text{Constant},~\\text{Constant},~\\text{Constant},~\\text{Constant},~\\text{Constant},~\\text{Constant})\\\\\\text{rates} &\\sim & \\text{Lognormal}(\\mathit{mu}=0,~\\mathit{tau}=1.0)\\\\\\text{distances} &\\sim & \\text{Deterministic}(\\text{rates_log__},~\\text{Constant},~\\text{Constant},~\\text{Constant},~\\text{Constant},~\\text{Constant},~\\text{Constant},~\\text{Constant},~\\text{Constant},~\\text{Constant},~\\text{Constant},~\\text{Constant},~\\text{Constant},~\\text{Constant},~\\text{tree_tree_height_proportion__},~\\text{Constant},~\\text{Constant},~\\text{Constant},~\\text{Constant},~\\text{Constant},~\\text{Constant},~\\text{Constant},~\\text{Constant},~\\text{Constant},~\\text{Constant},~\\text{Constant},~\\text{Constant},~\\text{Constant},~\\text{Constant},~\\text{Constant},~\\text{Constant},~\\text{Constant},~\\text{Constant},~\\text{Constant},~\\text{Constant},~\\text{Constant},~\\text{Constant},~\\text{tree_tree_height_proportion__},~\\text{Constant},~\\text{Constant},~\\text{Constant},~\\text{Constant},~\\text{Constant},~\\text{Constant},~\\text{Constant},~\\text{Constant},~\\text{Constant},~\\text{Constant},~\\text{Constant},~\\text{Constant},~\\text{Constant},~\\text{Constant},~\\text{Constant},~\\text{Constant},~\\text{Constant},~\\text{Constant},~\\text{Constant},~\\text{Constant},~\\text{tree_tree_height_proportion__},~\\text{Constant},~\\text{Constant},~\\text{Constant},~\\text{Constant},~\\text{Constant},~\\text{Constant},~\\text{Constant},~\\text{Constant},~\\text{Constant},~\\text{Constant},~\\text{Constant},~\\text{Constant},~\\text{Constant},~\\text{Constant},~\\text{Constant},~\\text{Constant},~\\text{Constant},~\\text{Constant},~\\text{Constant},~\\text{Constant},~\\text{tree_tree_height_proportion__},~\\text{Constant},~\\text{Constant},~\\text{Constant},~\\text{Constant},~\\text{Constant},~\\text{Constant},~\\text{Constant},~\\text{tree_tree_height_proportion__},~\\text{Constant},~\\text{Constant},~\\text{Constant},~\\text{Constant},~\\text{Constant},~\\text{Constant},~\\text{Constant},~\\text{Constant},~\\text{Constant},~\\text{Constant},~\\text{Constant},~\\text{Constant},~\\text{Constant},~\\text{Constant},~\\text{Constant},~\\text{Constant},~\\text{Constant},~\\text{tree_tree_height_proportion__},~\\text{Constant},~\\text{Constant},~\\text{Constant},~\\text{Constant},~\\text{Constant},~\\text{Constant},~\\text{Constant},~\\text{Constant},~\\text{Constant},~\\text{Constant},~\\text{Constant},~\\text{Constant},~\\text{Constant},~\\text{Constant},~\\text{Constant},~\\text{Constant},~\\text{Constant},~\\text{Constant},~\\text{tree_tree_height_proportion__},~\\text{Constant},~\\text{Constant},~\\text{Constant},~\\text{Constant},~\\text{Constant},~\\text{Constant},~\\text{Constant},~\\text{tree_tree_height_proportion__},~\\text{Constant},~\\text{Constant},~\\text{Constant},~\\text{Constant},~\\text{Constant},~\\text{Constant},~\\text{tree_tree_height_proportion__},~\\text{Constant},~\\text{Constant},~\\text{Constant},~\\text{Constant},~\\text{Constant},~\\text{Constant},~\\text{tree_tree_height_proportion__},~\\text{Constant},~\\text{Constant},~\\text{Constant},~\\text{Constant},~\\text{Constant},~\\text{tree_tree_height_proportion__},~\\text{Constant},~\\text{Constant},~\\text{Constant},~\\text{Constant},~\\text{Constant},~\\text{Constant},~\\text{Constant},~\\text{Constant},~\\text{Constant},~\\text{Constant},~\\text{Constant},~\\text{Constant},~\\text{Constant},~\\text{Constant},~\\text{Constant},~\\text{Constant},~\\text{Constant},~\\text{Constant},~\\text{Constant},~\\text{Constant},~\\text{tree_tree_height_proportion__},~\\text{Constant},~\\text{Constant},~\\text{Constant},~\\text{Constant},~\\text{Constant},~\\text{Constant},~\\text{Constant},~\\text{Constant},~\\text{Constant},~\\text{Constant},~\\text{Constant},~\\text{Constant},~\\text{Constant},~\\text{Constant},~\\text{Constant},~\\text{Constant},~\\text{Constant},~\\text{Constant},~\\text{Constant},~\\text{Constant},~\\text{Constant},~\\text{Constant},~\\text{tree_tree_height_proportion__},~\\text{Constant},~\\text{Constant},~\\text{Constant},~\\text{Constant},~\\text{Constant},~\\text{Constant},~\\text{Constant},~\\text{Constant},~\\text{Constant},~\\text{Constant},~\\text{Constant},~\\text{Constant},~\\text{Constant},~\\text{Constant},~\\text{Constant},~\\text{Constant},~\\text{Constant},~\\text{Constant},~\\text{Constant},~\\text{Constant},~\\text{tree_tree_height_proportion__},~\\text{Constant},~\\text{Constant},~\\text{Constant},~\\text{Constant},~\\text{Constant},~\\text{Constant},~\\text{Constant},~\\text{Constant},~\\text{Constant},~\\text{Constant},~\\text{Constant},~\\text{Constant},~\\text{Constant},~\\text{Constant},~\\text{Constant},~\\text{Constant},~\\text{Constant},~\\text{Constant},~\\text{Constant},~\\text{Constant},~\\text{tree_tree_height_proportion__},~\\text{Constant},~\\text{Constant},~\\text{Constant},~\\text{Constant},~\\text{Constant},~\\text{Constant},~\\text{Constant},~\\text{tree_tree_height_proportion__},~\\text{Constant},~\\text{Constant},~\\text{Constant},~\\text{Constant},~\\text{Constant},~\\text{Constant},~\\text{Constant},~\\text{Constant},~\\text{Constant},~\\text{Constant},~\\text{Constant},~\\text{Constant},~\\text{Constant},~\\text{Constant},~\\text{Constant},~\\text{Constant},~\\text{Constant},~\\text{tree_tree_height_proportion__},~\\text{Constant},~\\text{Constant},~\\text{Constant},~\\text{Constant},~\\text{Constant},~\\text{Constant},~\\text{Constant},~\\text{Constant},~\\text{Constant},~\\text{Constant},~\\text{Constant},~\\text{Constant},~\\text{Constant},~\\text{Constant},~\\text{Constant},~\\text{Constant},~\\text{Constant},~\\text{Constant},~\\text{tree_tree_height_proportion__},~\\text{Constant},~\\text{Constant},~\\text{Constant},~\\text{Constant},~\\text{Constant},~\\text{Constant},~\\text{Constant},~\\text{tree_tree_height_proportion__},~\\text{Constant},~\\text{Constant},~\\text{Constant},~\\text{Constant},~\\text{Constant},~\\text{Constant},~\\text{tree_tree_height_proportion__},~\\text{Constant},~\\text{Constant},~\\text{Constant},~\\text{Constant},~\\text{Constant},~\\text{Constant},~\\text{tree_tree_height_proportion__},~\\text{Constant},~\\text{Constant},~\\text{Constant},~\\text{Constant},~\\text{Constant},~\\text{tree_tree_height_proportion__},~\\text{Constant},~\\text{Constant},~\\text{Constant},~\\text{Constant},~\\text{Constant},~\\text{Constant},~\\text{Constant},~\\text{Constant},~\\text{Constant},~\\text{Constant},~\\text{Constant},~\\text{Constant},~\\text{Constant},~\\text{Constant},~\\text{Constant},~\\text{Constant},~\\text{Constant},~\\text{Constant},~\\text{Constant},~\\text{Constant},~\\text{Constant},~\\text{Constant},~\\text{Constant},~\\text{Constant},~\\text{tree_tree_height_proportion__},~\\text{Constant},~\\text{Constant},~\\text{Constant},~\\text{Constant},~\\text{Constant},~\\text{Constant},~\\text{Constant},~\\text{Constant},~\\text{Constant},~\\text{Constant},~\\text{Constant},~\\text{Constant},~\\text{Constant},~\\text{Constant},~\\text{Constant},~\\text{Constant},~\\text{Constant},~\\text{Constant},~\\text{Constant},~\\text{Constant},~\\text{Constant},~\\text{Constant},~\\text{tree_tree_height_proportion__},~\\text{Constant},~\\text{Constant},~\\text{Constant},~\\text{Constant},~\\text{Constant},~\\text{Constant},~\\text{Constant},~\\text{Constant},~\\text{Constant},~\\text{Constant},~\\text{Constant},~\\text{Constant},~\\text{Constant},~\\text{Constant},~\\text{Constant},~\\text{Constant},~\\text{Constant},~\\text{Constant},~\\text{Constant},~\\text{Constant},~\\text{tree_tree_height_proportion__},~\\text{Constant},~\\text{Constant},~\\text{Constant},~\\text{Constant},~\\text{Constant},~\\text{Constant},~\\text{Constant},~\\text{Constant},~\\text{Constant},~\\text{Constant},~\\text{Constant},~\\text{Constant},~\\text{Constant},~\\text{Constant},~\\text{Constant},~\\text{Constant},~\\text{Constant},~\\text{Constant},~\\text{Constant},~\\text{Constant},~\\text{tree_tree_height_proportion__},~\\text{Constant},~\\text{Constant},~\\text{Constant},~\\text{Constant},~\\text{Constant},~\\text{Constant},~\\text{Constant},~\\text{tree_tree_height_proportion__},~\\text{Constant},~\\text{Constant},~\\text{Constant},~\\text{Constant},~\\text{Constant},~\\text{Constant},~\\text{Constant},~\\text{Constant},~\\text{Constant},~\\text{Constant},~\\text{Constant},~\\text{Constant},~\\text{Constant},~\\text{Constant},~\\text{Constant},~\\text{Constant},~\\text{Constant},~\\text{tree_tree_height_proportion__},~\\text{Constant},~\\text{Constant},~\\text{Constant},~\\text{Constant},~\\text{Constant},~\\text{Constant},~\\text{Constant},~\\text{Constant},~\\text{Constant},~\\text{Constant},~\\text{Constant},~\\text{Constant},~\\text{Constant},~\\text{Constant},~\\text{Constant},~\\text{Constant},~\\text{Constant},~\\text{Constant},~\\text{tree_tree_height_proportion__},~\\text{Constant},~\\text{Constant},~\\text{Constant},~\\text{Constant},~\\text{Constant},~\\text{Constant},~\\text{Constant},~\\text{tree_tree_height_proportion__},~\\text{Constant},~\\text{Constant},~\\text{Constant},~\\text{Constant},~\\text{Constant},~\\text{Constant},~\\text{tree_tree_height_proportion__},~\\text{Constant},~\\text{Constant},~\\text{Constant},~\\text{Constant},~\\text{Constant},~\\text{Constant},~\\text{tree_tree_height_proportion__},~\\text{Constant},~\\text{Constant},~\\text{Constant},~\\text{Constant},~\\text{Constant},~\\text{tree_tree_height_proportion__},~\\text{Constant},~\\text{Constant},~\\text{Constant},~\\text{Constant},~\\text{Constant},~\\text{Constant},~\\text{Constant},~\\text{Constant})\\\\\\text{kappa} &\\sim & \\text{Exponential}(\\mathit{lam}=0.1)\\\\pi &\\sim & \\text{Dirichlet}(\\mathit{a}=array)\n",
       "            \\end{array}\n",
       "            $$"
      ],
      "text/plain": [
       "<pymc3.model.Model at 0x1c14d77630>"
      ]
     },
     "execution_count": 34,
     "metadata": {},
     "output_type": "execute_result"
    }
   ],
   "source": [
    "import pylo.tree.coalescent\n",
    "import pylo.pruning\n",
    "\n",
    "reload(pylo.tree.coalescent)\n",
    "reload(pylo.pruning)\n",
    "\n",
    "import pymc3 as pm\n",
    "from pylo.tree.coalescent import CoalescentTree, ConstantPopulationFunction\n",
    "from pylo.hky import HKYSubstitutionModel\n",
    "from pylo.pruning import LeafSequences\n",
    "\n",
    "with pm.Model() as model:    \n",
    "    population_size = pm.Gamma('population_size', alpha=2.0, beta=0.1)\n",
    "    population_function = ConstantPopulationFunction(topology, population_size)\n",
    "    tree_heights = CoalescentTree('tree', topology, population_function)\n",
    "    branch_lengths = pm.Deterministic('branch_lengths', topology.get_child_branch_lengths(tree_heights))\n",
    "    rates = pm.Lognormal('rates', shape=(topology.get_internal_node_count(), 2))\n",
    "    \n",
    "    distances = pm.Deterministic('distances', rates*branch_lengths)\n",
    "    \n",
    "    kappa = pm.Exponential('kappa', lam=0.1)\n",
    "    pi = pm.Dirichlet('pi', a=np.ones(4))\n",
    "    \n",
    "    substitution_model = HKYSubstitutionModel(kappa, pi)\n",
    "    sequences = LeafSequences('sequences', topology, substitution_model, distances, child_patterns_, pattern_counts_)\n",
    "    \n",
    "model"
   ]
  },
  {
   "cell_type": "code",
   "execution_count": 35,
   "metadata": {},
   "outputs": [
    {
     "name": "stdout",
     "output_type": "stream",
     "text": [
      "population_size_log__ -0.6137056388801092\n",
      "tree_tree_height_proportion__ -17.79500663732926\n",
      "rates_log__ -11.027262398456068\n",
      "kappa_log__ -1.0596601002984285\n",
      "pi_stickbreaking__ -3.753417975251508\n"
     ]
    }
   ],
   "source": [
    "for RV in model.basic_RVs:\n",
    "    print(RV.name, RV.logp(model.test_point))"
   ]
  },
  {
   "cell_type": "code",
   "execution_count": null,
   "metadata": {},
   "outputs": [],
   "source": [
    "import matplotlib.pyplot as plt\n",
    "\n",
    "with model:\n",
    "    fullrank = pm.ADVI() # Not full rank\n",
    "\n",
    "fr_tracker = pm.callbacks.Tracker(\n",
    "    mean=fullrank.approx.mean.eval,  # callable that returns mean\n",
    "    std=fullrank.approx.cov.eval  # callable that returns cov\n",
    ")\n",
    "\n",
    "approx_dim = np.sum([param.shape.eval() for param in fullrank.approx.params])\n",
    "tolerance = 0.1*np.sqrt(approx_dim)\n",
    "convergence = pm.callbacks.CheckParametersConvergence(tolerance=tolerance, diff='relative')\n",
    "\n",
    "fit = fullrank.fit(n=100000, callbacks=[fr_tracker, convergence])\n",
    "\n",
    "fig = plt.figure(figsize=(16, 9))\n",
    "mu_ax = fig.add_subplot(221)\n",
    "std_ax = fig.add_subplot(222)\n",
    "hist_ax = fig.add_subplot(212)\n",
    "mu_ax.plot(fr_tracker['mean'])\n",
    "mu_ax.set_title('Mean track')\n",
    "cov_data = np.stack(fr_tracker['std'])\n",
    "std_ax.plot(cov_data.reshape((cov_data.shape[0], -1)))\n",
    "std_ax.set_title('Cov track')\n",
    "hist_ax.plot(fullrank.hist)\n",
    "hist_ax.set_title('Negative ELBO track');"
   ]
  },
  {
   "cell_type": "code",
   "execution_count": null,
   "metadata": {},
   "outputs": [],
   "source": [
    "import arviz as az\n",
    "\n",
    "trace = fit.sample(draws=1000)\n",
    "inf_data = az.from_pymc3(trace=trace)"
   ]
  },
  {
   "cell_type": "code",
   "execution_count": null,
   "metadata": {},
   "outputs": [],
   "source": [
    "az.plot_joint(inf_data, ['branch_lengths', 'rates'])"
   ]
  },
  {
   "cell_type": "code",
   "execution_count": null,
   "metadata": {},
   "outputs": [],
   "source": [
    "log_weight = fit.sized_symbolic_logp - fit.symbolic_logq\n",
    "log_weight"
   ]
  },
  {
   "cell_type": "code",
   "execution_count": null,
   "metadata": {},
   "outputs": [],
   "source": [
    "n_samples = 10000\n",
    "log_weights = fit.set_size_and_deterministic(log_weight, n_samples, False).eval()\n",
    "plt.hist(log_weights)"
   ]
  },
  {
   "cell_type": "code",
   "execution_count": null,
   "metadata": {},
   "outputs": [],
   "source": [
    "from scipy.special import logsumexp\n",
    "\n",
    "log_weights_norm = (log_weights - logsumexp(log_weights))[:, np.newaxis]\n",
    "\n",
    "plt.hist(log_weights_norm)"
   ]
  },
  {
   "cell_type": "code",
   "execution_count": null,
   "metadata": {},
   "outputs": [],
   "source": []
  },
  {
   "cell_type": "code",
   "execution_count": null,
   "metadata": {},
   "outputs": [],
   "source": [
    "pm.stats._psislw(log_weights_norm, n_samples)"
   ]
  }
 ],
 "metadata": {
  "kernelspec": {
   "display_name": "Python 3",
   "language": "python",
   "name": "python3"
  },
  "language_info": {
   "codemirror_mode": {
    "name": "ipython",
    "version": 3
   },
   "file_extension": ".py",
   "mimetype": "text/x-python",
   "name": "python",
   "nbconvert_exporter": "python",
   "pygments_lexer": "ipython3",
   "version": "3.6.8"
  }
 },
 "nbformat": 4,
 "nbformat_minor": 2
}
